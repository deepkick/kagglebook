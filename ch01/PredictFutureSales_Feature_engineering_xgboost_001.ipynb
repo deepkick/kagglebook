{
  "nbformat": 4,
  "nbformat_minor": 0,
  "metadata": {
    "colab": {
      "name": "PredictFutureSales_Feature engineering_xgboost_001.ipynb",
      "provenance": [],
      "authorship_tag": "ABX9TyNksNT896RZ23v73iS3vFoP",
      "include_colab_link": true
    },
    "kernelspec": {
      "name": "python3",
      "display_name": "Python 3"
    },
    "accelerator": "GPU"
  },
  "cells": [
    {
      "cell_type": "markdown",
      "metadata": {
        "id": "view-in-github",
        "colab_type": "text"
      },
      "source": [
        "<a href=\"https://colab.research.google.com/github/deepkick/kagglebook/blob/master/ch01/PredictFutureSales_Feature_engineering_xgboost_001.ipynb\" target=\"_parent\"><img src=\"https://colab.research.google.com/assets/colab-badge.svg\" alt=\"Open In Colab\"/></a>"
      ]
    },
    {
      "cell_type": "markdown",
      "metadata": {
        "id": "Xp97UNEywWJa",
        "colab_type": "text"
      },
      "source": [
        "# Predict Future Sales\n",
        "https://www.kaggle.com/dlarionov/feature-engineering-xgboost\n",
        "\n",
        "## Pipline\n",
        "\n",
        "* load data\n",
        "* heal data and remove outliers\n",
        "* work with shops/items/cats objects and features\n",
        "* create matrix as product of item/shop pairs within each month in the train set\n",
        "* get monthly sales for each item/shop pair in the train set and merge it to the matrix\n",
        "* clip item_cnt_month by (0,20)\n",
        "* append test to the matrix, fill 34 month nans with zeros\n",
        "* merge shops/items/cats to the matrix\n",
        "* add target lag features\n",
        "* add mean encoded features\n",
        "* add price trend features\n",
        "* add month\n",
        "* add days\n",
        "* add months since last sale/months since first sale features\n",
        "* cut first year and drop columns which can not be calculated for the test set\n",
        "* select best features\n",
        "* set validation strategy 34 test, 33 validation, less than 33 train\n",
        "* fit the model, predict and clip targets for the test set\n"
      ]
    },
    {
      "cell_type": "markdown",
      "metadata": {
        "id": "mXZyHCmbw0kV",
        "colab_type": "text"
      },
      "source": [
        "## Part 1, perfect features"
      ]
    },
    {
      "cell_type": "code",
      "metadata": {
        "id": "AZUhIJo8v-wR",
        "colab_type": "code",
        "colab": {
          "base_uri": "https://localhost:8080/",
          "height": 88
        },
        "outputId": "23f6c95b-5682-4cc9-f97b-d196472af99c"
      },
      "source": [
        "import numpy as np\n",
        "import pandas as pd\n",
        "pd.set_option('display.max_rows', 500)\n",
        "pd.set_option('display.max_columns', 100)\n",
        "\n",
        "from itertools import product\n",
        "from sklearn.preprocessing import LabelEncoder\n",
        "\n",
        "import seaborn as sns\n",
        "import matplotlib.pyplot as plt\n",
        "%matplotlib inline\n",
        "\n",
        "from xgboost import XGBRegressor\n",
        "from xgboost import plot_importance\n",
        "\n",
        "def plot_features(booster, figsize):    \n",
        "    fig, ax = plt.subplots(1,1,figsize=figsize)\n",
        "    return plot_importance(booster=booster, ax=ax)\n",
        "\n",
        "import time\n",
        "import sys\n",
        "import gc\n",
        "import pickle\n",
        "sys.version_info"
      ],
      "execution_count": 5,
      "outputs": [
        {
          "output_type": "stream",
          "text": [
            "/usr/local/lib/python3.6/dist-packages/statsmodels/tools/_testing.py:19: FutureWarning: pandas.util.testing is deprecated. Use the functions in the public API at pandas.testing instead.\n",
            "  import pandas.util.testing as tm\n"
          ],
          "name": "stderr"
        },
        {
          "output_type": "execute_result",
          "data": {
            "text/plain": [
              "sys.version_info(major=3, minor=6, micro=9, releaselevel='final', serial=0)"
            ]
          },
          "metadata": {
            "tags": []
          },
          "execution_count": 5
        }
      ]
    },
    {
      "cell_type": "code",
      "metadata": {
        "id": "JCgrMTe3w8bn",
        "colab_type": "code",
        "colab": {
          "base_uri": "https://localhost:8080/",
          "height": 34
        },
        "outputId": "dc6c546e-af9b-4879-f400-a83df3220cb5"
      },
      "source": [
        "items = pd.read_csv('../input/items.csv')\n",
        "shops = pd.read_csv('../input/shops.csv')\n",
        "cats = pd.read_csv('../input/item_categories.csv')\n",
        "train = pd.read_csv('../input/sales_train.csv')\n",
        "# set index to ID to avoid droping it later\n",
        "test  = pd.read_csv('../input/test.csv').set_index('ID')\n",
        "train.shape"
      ],
      "execution_count": 6,
      "outputs": [
        {
          "output_type": "execute_result",
          "data": {
            "text/plain": [
              "(2935849, 6)"
            ]
          },
          "metadata": {
            "tags": []
          },
          "execution_count": 6
        }
      ]
    },
    {
      "cell_type": "code",
      "metadata": {
        "id": "96u6jcKq2q7h",
        "colab_type": "code",
        "colab": {
          "base_uri": "https://localhost:8080/",
          "height": 340
        },
        "outputId": "94cbd02c-a385-4711-9c5d-086c6562349a"
      },
      "source": [
        "# 行・列ごとに欠損値の個数をカウント\n",
        "print(train.isnull().sum())\n",
        "print(train.isnull().sum(axis=1))"
      ],
      "execution_count": 7,
      "outputs": [
        {
          "output_type": "stream",
          "text": [
            "date              0\n",
            "date_block_num    0\n",
            "shop_id           0\n",
            "item_id           0\n",
            "item_price        0\n",
            "item_cnt_day      0\n",
            "dtype: int64\n",
            "0          0\n",
            "1          0\n",
            "2          0\n",
            "3          0\n",
            "4          0\n",
            "          ..\n",
            "2935844    0\n",
            "2935845    0\n",
            "2935846    0\n",
            "2935847    0\n",
            "2935848    0\n",
            "Length: 2935849, dtype: int64\n"
          ],
          "name": "stdout"
        }
      ]
    },
    {
      "cell_type": "markdown",
      "metadata": {
        "id": "W8QiRBNoxHay",
        "colab_type": "text"
      },
      "source": [
        "## Outliers"
      ]
    },
    {
      "cell_type": "code",
      "metadata": {
        "id": "bZ9kGvi4xFKX",
        "colab_type": "code",
        "colab": {
          "base_uri": "https://localhost:8080/",
          "height": 560
        },
        "outputId": "e70741aa-8aea-4b93-ccdc-63b73b8ade89"
      },
      "source": [
        "plt.figure(figsize=(10,4))\n",
        "plt.xlim(-100, 3000)\n",
        "sns.boxplot(x=train.item_cnt_day)\n",
        "\n",
        "plt.figure(figsize=(10,4))\n",
        "plt.xlim(train.item_price.min(), train.item_price.max()*1.1)\n",
        "sns.boxplot(x=train.item_price)"
      ],
      "execution_count": 8,
      "outputs": [
        {
          "output_type": "execute_result",
          "data": {
            "text/plain": [
              "<matplotlib.axes._subplots.AxesSubplot at 0x7f33e2f333c8>"
            ]
          },
          "metadata": {
            "tags": []
          },
          "execution_count": 8
        },
        {
          "output_type": "display_data",
          "data": {
            "image/png": "[encoded data removed]",
            "text/plain": [
              "<Figure size 720x288 with 1 Axes>"
            ]
          },
          "metadata": {
            "tags": [],
            "needs_background": "light"
          }
        },
        {
          "output_type": "display_data",
          "data": {
            "image/png": "[encoded data removed]",
            "text/plain": [
              "<Figure size 720x288 with 1 Axes>"
            ]
          },
          "metadata": {
            "tags": [],
            "needs_background": "light"
          }
        }
      ]
    },
    {
      "cell_type": "code",
      "metadata": {
        "id": "q0yzb213xP_f",
        "colab_type": "code",
        "colab": {}
      },
      "source": [
        "train = train[train.item_price<100000]\n",
        "train = train[train.item_cnt_day<1001]"
      ],
      "execution_count": 9,
      "outputs": []
    },
    {
      "cell_type": "code",
      "metadata": {
        "id": "AFt-ctXu3S69",
        "colab_type": "code",
        "colab": {
          "base_uri": "https://localhost:8080/",
          "height": 34
        },
        "outputId": "65ae6876-b6f3-4c9b-9678-1e1b5a8ef2be"
      },
      "source": [
        "train.shape"
      ],
      "execution_count": 10,
      "outputs": [
        {
          "output_type": "execute_result",
          "data": {
            "text/plain": [
              "(2935847, 6)"
            ]
          },
          "metadata": {
            "tags": []
          },
          "execution_count": 10
        }
      ]
    },
    {
      "cell_type": "code",
      "metadata": {
        "id": "PsGx_CbBxjh3",
        "colab_type": "code",
        "colab": {
          "base_uri": "https://localhost:8080/",
          "height": 340
        },
        "outputId": "0e21d56a-c27a-4acc-b83c-eb38a48928d0"
      },
      "source": [
        "# 行・列ごとに欠損値の個数をカウント\n",
        "print(train.isnull().sum())\n",
        "print(train.isnull().sum(axis=1))"
      ],
      "execution_count": 11,
      "outputs": [
        {
          "output_type": "stream",
          "text": [
            "date              0\n",
            "date_block_num    0\n",
            "shop_id           0\n",
            "item_id           0\n",
            "item_price        0\n",
            "item_cnt_day      0\n",
            "dtype: int64\n",
            "0          0\n",
            "1          0\n",
            "2          0\n",
            "3          0\n",
            "4          0\n",
            "          ..\n",
            "2935844    0\n",
            "2935845    0\n",
            "2935846    0\n",
            "2935847    0\n",
            "2935848    0\n",
            "Length: 2935847, dtype: int64\n"
          ],
          "name": "stdout"
        }
      ]
    },
    {
      "cell_type": "code",
      "metadata": {
        "id": "iStcbAX6xzCe",
        "colab_type": "code",
        "colab": {
          "base_uri": "https://localhost:8080/",
          "height": 297
        },
        "outputId": "0ffc8cb0-6cb9-401a-8599-5d17ffc45233"
      },
      "source": [
        "train.describe()"
      ],
      "execution_count": 12,
      "outputs": [
        {
          "output_type": "execute_result",
          "data": {
            "text/html": [
              "<div>\n",
              "<style scoped>\n",
              "    .dataframe tbody tr th:only-of-type {\n",
              "        vertical-align: middle;\n",
              "    }\n",
              "\n",
              "    .dataframe tbody tr th {\n",
              "        vertical-align: top;\n",
              "    }\n",
              "\n",
              "    .dataframe thead th {\n",
              "        text-align: right;\n",
              "    }\n",
              "</style>\n",
              "<table border=\"1\" class=\"dataframe\">\n",
              "  <thead>\n",
              "    <tr style=\"text-align: right;\">\n",
              "      <th></th>\n",
              "      <th>date_block_num</th>\n",
              "      <th>shop_id</th>\n",
              "      <th>item_id</th>\n",
              "      <th>item_price</th>\n",
              "      <th>item_cnt_day</th>\n",
              "    </tr>\n",
              "  </thead>\n",
              "  <tbody>\n",
              "    <tr>\n",
              "      <th>count</th>\n",
              "      <td>2.935847e+06</td>\n",
              "      <td>2.935847e+06</td>\n",
              "      <td>2.935847e+06</td>\n",
              "      <td>2.935847e+06</td>\n",
              "      <td>2.935847e+06</td>\n",
              "    </tr>\n",
              "    <tr>\n",
              "      <th>mean</th>\n",
              "      <td>1.456991e+01</td>\n",
              "      <td>3.300174e+01</td>\n",
              "      <td>1.019723e+04</td>\n",
              "      <td>8.907489e+02</td>\n",
              "      <td>1.241903e+00</td>\n",
              "    </tr>\n",
              "    <tr>\n",
              "      <th>std</th>\n",
              "      <td>9.422985e+00</td>\n",
              "      <td>1.622697e+01</td>\n",
              "      <td>6.324299e+03</td>\n",
              "      <td>1.720490e+03</td>\n",
              "      <td>2.292963e+00</td>\n",
              "    </tr>\n",
              "    <tr>\n",
              "      <th>min</th>\n",
              "      <td>0.000000e+00</td>\n",
              "      <td>0.000000e+00</td>\n",
              "      <td>0.000000e+00</td>\n",
              "      <td>-1.000000e+00</td>\n",
              "      <td>-2.200000e+01</td>\n",
              "    </tr>\n",
              "    <tr>\n",
              "      <th>25%</th>\n",
              "      <td>7.000000e+00</td>\n",
              "      <td>2.200000e+01</td>\n",
              "      <td>4.476000e+03</td>\n",
              "      <td>2.490000e+02</td>\n",
              "      <td>1.000000e+00</td>\n",
              "    </tr>\n",
              "    <tr>\n",
              "      <th>50%</th>\n",
              "      <td>1.400000e+01</td>\n",
              "      <td>3.100000e+01</td>\n",
              "      <td>9.343000e+03</td>\n",
              "      <td>3.990000e+02</td>\n",
              "      <td>1.000000e+00</td>\n",
              "    </tr>\n",
              "    <tr>\n",
              "      <th>75%</th>\n",
              "      <td>2.300000e+01</td>\n",
              "      <td>4.700000e+01</td>\n",
              "      <td>1.568400e+04</td>\n",
              "      <td>9.990000e+02</td>\n",
              "      <td>1.000000e+00</td>\n",
              "    </tr>\n",
              "    <tr>\n",
              "      <th>max</th>\n",
              "      <td>3.300000e+01</td>\n",
              "      <td>5.900000e+01</td>\n",
              "      <td>2.216900e+04</td>\n",
              "      <td>5.920000e+04</td>\n",
              "      <td>1.000000e+03</td>\n",
              "    </tr>\n",
              "  </tbody>\n",
              "</table>\n",
              "</div>"
            ],
            "text/plain": [
              "       date_block_num       shop_id       item_id    item_price  item_cnt_day\n",
              "count    2.935847e+06  2.935847e+06  2.935847e+06  2.935847e+06  2.935847e+06\n",
              "mean     1.456991e+01  3.300174e+01  1.019723e+04  8.907489e+02  1.241903e+00\n",
              "std      9.422985e+00  1.622697e+01  6.324299e+03  1.720490e+03  2.292963e+00\n",
              "min      0.000000e+00  0.000000e+00  0.000000e+00 -1.000000e+00 -2.200000e+01\n",
              "25%      7.000000e+00  2.200000e+01  4.476000e+03  2.490000e+02  1.000000e+00\n",
              "50%      1.400000e+01  3.100000e+01  9.343000e+03  3.990000e+02  1.000000e+00\n",
              "75%      2.300000e+01  4.700000e+01  1.568400e+04  9.990000e+02  1.000000e+00\n",
              "max      3.300000e+01  5.900000e+01  2.216900e+04  5.920000e+04  1.000000e+03"
            ]
          },
          "metadata": {
            "tags": []
          },
          "execution_count": 12
        }
      ]
    },
    {
      "cell_type": "markdown",
      "metadata": {
        "id": "BndxuVLayJx_",
        "colab_type": "text"
      },
      "source": [
        "There is one item with price below zero. Fill it with median."
      ]
    },
    {
      "cell_type": "code",
      "metadata": {
        "id": "ZyzORKQTx9ye",
        "colab_type": "code",
        "colab": {
          "base_uri": "https://localhost:8080/",
          "height": 80
        },
        "outputId": "eab14cce-6a53-4e55-e73b-1bad5f49def6"
      },
      "source": [
        "train[train.item_price<0]"
      ],
      "execution_count": 13,
      "outputs": [
        {
          "output_type": "execute_result",
          "data": {
            "text/html": [
              "<div>\n",
              "<style scoped>\n",
              "    .dataframe tbody tr th:only-of-type {\n",
              "        vertical-align: middle;\n",
              "    }\n",
              "\n",
              "    .dataframe tbody tr th {\n",
              "        vertical-align: top;\n",
              "    }\n",
              "\n",
              "    .dataframe thead th {\n",
              "        text-align: right;\n",
              "    }\n",
              "</style>\n",
              "<table border=\"1\" class=\"dataframe\">\n",
              "  <thead>\n",
              "    <tr style=\"text-align: right;\">\n",
              "      <th></th>\n",
              "      <th>date</th>\n",
              "      <th>date_block_num</th>\n",
              "      <th>shop_id</th>\n",
              "      <th>item_id</th>\n",
              "      <th>item_price</th>\n",
              "      <th>item_cnt_day</th>\n",
              "    </tr>\n",
              "  </thead>\n",
              "  <tbody>\n",
              "    <tr>\n",
              "      <th>484683</th>\n",
              "      <td>15.05.2013</td>\n",
              "      <td>4</td>\n",
              "      <td>32</td>\n",
              "      <td>2973</td>\n",
              "      <td>-1.0</td>\n",
              "      <td>1.0</td>\n",
              "    </tr>\n",
              "  </tbody>\n",
              "</table>\n",
              "</div>"
            ],
            "text/plain": [
              "              date  date_block_num  shop_id  item_id  item_price  item_cnt_day\n",
              "484683  15.05.2013               4       32     2973        -1.0           1.0"
            ]
          },
          "metadata": {
            "tags": []
          },
          "execution_count": 13
        }
      ]
    },
    {
      "cell_type": "code",
      "metadata": {
        "id": "2xT1_s35yZG6",
        "colab_type": "code",
        "colab": {
          "base_uri": "https://localhost:8080/",
          "height": 34
        },
        "outputId": "6feb7d22-97fd-43cb-d0a3-b2b92827891b"
      },
      "source": [
        "median = train[(train.shop_id==32)&(train.item_id==2973)&(train.date_block_num==4)&(train.item_price>0)].item_price.median()\n",
        "median"
      ],
      "execution_count": 14,
      "outputs": [
        {
          "output_type": "execute_result",
          "data": {
            "text/plain": [
              "1874.0"
            ]
          },
          "metadata": {
            "tags": []
          },
          "execution_count": 14
        }
      ]
    },
    {
      "cell_type": "code",
      "metadata": {
        "id": "20fKy32jylza",
        "colab_type": "code",
        "colab": {}
      },
      "source": [
        "train.loc[train.item_price<0, 'item_price'] = median"
      ],
      "execution_count": 15,
      "outputs": []
    },
    {
      "cell_type": "code",
      "metadata": {
        "id": "sxG6fgqJyucS",
        "colab_type": "code",
        "colab": {
          "base_uri": "https://localhost:8080/",
          "height": 49
        },
        "outputId": "397ec95b-9307-48cd-b076-26d1be14fc51"
      },
      "source": [
        "train[train.item_price<0]"
      ],
      "execution_count": 16,
      "outputs": [
        {
          "output_type": "execute_result",
          "data": {
            "text/html": [
              "<div>\n",
              "<style scoped>\n",
              "    .dataframe tbody tr th:only-of-type {\n",
              "        vertical-align: middle;\n",
              "    }\n",
              "\n",
              "    .dataframe tbody tr th {\n",
              "        vertical-align: top;\n",
              "    }\n",
              "\n",
              "    .dataframe thead th {\n",
              "        text-align: right;\n",
              "    }\n",
              "</style>\n",
              "<table border=\"1\" class=\"dataframe\">\n",
              "  <thead>\n",
              "    <tr style=\"text-align: right;\">\n",
              "      <th></th>\n",
              "      <th>date</th>\n",
              "      <th>date_block_num</th>\n",
              "      <th>shop_id</th>\n",
              "      <th>item_id</th>\n",
              "      <th>item_price</th>\n",
              "      <th>item_cnt_day</th>\n",
              "    </tr>\n",
              "  </thead>\n",
              "  <tbody>\n",
              "  </tbody>\n",
              "</table>\n",
              "</div>"
            ],
            "text/plain": [
              "Empty DataFrame\n",
              "Columns: [date, date_block_num, shop_id, item_id, item_price, item_cnt_day]\n",
              "Index: []"
            ]
          },
          "metadata": {
            "tags": []
          },
          "execution_count": 16
        }
      ]
    },
    {
      "cell_type": "markdown",
      "metadata": {
        "id": "noR1nSGMy3e6",
        "colab_type": "text"
      },
      "source": [
        "Several shops are duplicates of each other (according to its name). Fix train and test set."
      ]
    },
    {
      "cell_type": "code",
      "metadata": {
        "id": "HtnGe079ywFj",
        "colab_type": "code",
        "colab": {}
      },
      "source": [
        "# Якутск Орджоникидзе, 56\n",
        "train.loc[train.shop_id == 0, 'shop_id'] = 57\n",
        "test.loc[test.shop_id == 0, 'shop_id'] = 57\n",
        "# Якутск ТЦ \"Центральный\"\n",
        "train.loc[train.shop_id == 1, 'shop_id'] = 58\n",
        "test.loc[test.shop_id == 1, 'shop_id'] = 58\n",
        "# Жуковский ул. Чкалова 39м²\n",
        "train.loc[train.shop_id == 10, 'shop_id'] = 11\n",
        "test.loc[test.shop_id == 10, 'shop_id'] = 11"
      ],
      "execution_count": 17,
      "outputs": []
    },
    {
      "cell_type": "markdown",
      "metadata": {
        "id": "gLohFWOzzPOP",
        "colab_type": "text"
      },
      "source": [
        "## Shops/Cats/Items preprocessing\n",
        "Observations:  \n",
        "\n",
        "* Each shop_name starts with the city name.  \n",
        "* Each category contains type and subtype in its name."
      ]
    },
    {
      "cell_type": "code",
      "metadata": {
        "id": "mG2vHiZuy7-q",
        "colab_type": "code",
        "colab": {}
      },
      "source": [
        "shops.loc[shops.shop_name == 'Сергиев Посад ТЦ \"7Я\"', 'shop_name'] = 'СергиевПосад ТЦ \"7Я\"'\n",
        "shops['city'] = shops['shop_name'].str.split(' ').map(lambda x: x[0])\n",
        "shops.loc[shops.city == '!Якутск', 'city'] = 'Якутск'\n",
        "shops['city_code'] = LabelEncoder().fit_transform(shops['city'])\n",
        "shops = shops[['shop_id','city_code']]\n",
        "\n",
        "cats['split'] = cats['item_category_name'].str.split('-')\n",
        "cats['type'] = cats['split'].map(lambda x: x[0].strip())\n",
        "cats['type_code'] = LabelEncoder().fit_transform(cats['type'])\n",
        "# if subtype is nan then type\n",
        "cats['subtype'] = cats['split'].map(lambda x: x[1].strip() if len(x) > 1 else x[0].strip())\n",
        "cats['subtype_code'] = LabelEncoder().fit_transform(cats['subtype'])\n",
        "cats = cats[['item_category_id','type_code', 'subtype_code']]\n",
        "\n",
        "items.drop(['item_name'], axis=1, inplace=True)"
      ],
      "execution_count": 18,
      "outputs": []
    },
    {
      "cell_type": "markdown",
      "metadata": {
        "id": "v_AWYHP-z4sG",
        "colab_type": "text"
      },
      "source": [
        "## Monthly sales  \n",
        "\n",
        "Test set is a product of some shops and some items within 34 month. There are 5100 items * 42 shops = 214200 pairs. 363 items are new compared to the train. Hence, for the most of the items in the test set target value should be zero. In the other hand train set contains only pairs which were sold or returned in the past. Tha main idea is to calculate monthly sales and extend it with zero sales for each unique pair within the month. This way train data will be similar to test data."
      ]
    },
    {
      "cell_type": "code",
      "metadata": {
        "id": "lOqIIiOkzVEZ",
        "colab_type": "code",
        "colab": {
          "base_uri": "https://localhost:8080/",
          "height": 34
        },
        "outputId": "cae9c2f0-005a-4486-a921-56d0161a0eea"
      },
      "source": [
        "len(list(set(test.item_id) - set(test.item_id).intersection(set(train.item_id)))), len(list(set(test.item_id))), len(test)"
      ],
      "execution_count": 19,
      "outputs": [
        {
          "output_type": "execute_result",
          "data": {
            "text/plain": [
              "(363, 5100, 214200)"
            ]
          },
          "metadata": {
            "tags": []
          },
          "execution_count": 19
        }
      ]
    },
    {
      "cell_type": "code",
      "metadata": {
        "id": "Hh2iLPwI1fdl",
        "colab_type": "code",
        "colab": {
          "base_uri": "https://localhost:8080/",
          "height": 34
        },
        "outputId": "454a68ac-1d71-407a-c7ec-4e04ec15d802"
      },
      "source": [
        "train.shape"
      ],
      "execution_count": 20,
      "outputs": [
        {
          "output_type": "execute_result",
          "data": {
            "text/plain": [
              "(2935847, 6)"
            ]
          },
          "metadata": {
            "tags": []
          },
          "execution_count": 20
        }
      ]
    },
    {
      "cell_type": "code",
      "metadata": {
        "id": "HfQnSs2f0N1x",
        "colab_type": "code",
        "colab": {
          "base_uri": "https://localhost:8080/",
          "height": 34
        },
        "outputId": "7eaa33fe-f088-4de6-a86a-7b0ca5c32326"
      },
      "source": [
        "ts = time.time()\n",
        "matrix = []\n",
        "cols = ['date_block_num','shop_id','item_id']\n",
        "for i in range(34):\n",
        "    sales = train[train.date_block_num==i]\n",
        "    matrix.append(np.array(list(product([i], sales.shop_id.unique(), sales.item_id.unique())), dtype='int16'))\n",
        "    \n",
        "matrix = pd.DataFrame(np.vstack(matrix), columns=cols)\n",
        "matrix['date_block_num'] = matrix['date_block_num'].astype(np.int8)\n",
        "matrix['shop_id'] = matrix['shop_id'].astype(np.int8)\n",
        "matrix['item_id'] = matrix['item_id'].astype(np.int16)\n",
        "matrix.sort_values(cols,inplace=True)\n",
        "time.time() - ts"
      ],
      "execution_count": 21,
      "outputs": [
        {
          "output_type": "execute_result",
          "data": {
            "text/plain": [
              "10.188502550125122"
            ]
          },
          "metadata": {
            "tags": []
          },
          "execution_count": 21
        }
      ]
    },
    {
      "cell_type": "markdown",
      "metadata": {
        "id": "fYsEwH_333Bj",
        "colab_type": "text"
      },
      "source": [
        "Aggregate train set by shop/item pairs to calculate target aggreagates, then clip(0,20) target value. This way train target will be similar to the test predictions.\n",
        "\n",
        "I use floats instead of ints for item_cnt_month to avoid downcasting it after concatination with the test set later. If it would be int16, after concatination with NaN values it becomes int64, but foat16 becomes float16 even with NaNs."
      ]
    },
    {
      "cell_type": "code",
      "metadata": {
        "id": "MJBMP-AO0T2J",
        "colab_type": "code",
        "colab": {}
      },
      "source": [
        "train['revenue'] = train['item_price'] *  train['item_cnt_day']"
      ],
      "execution_count": 22,
      "outputs": []
    },
    {
      "cell_type": "code",
      "metadata": {
        "id": "h3VfrS0Y4G19",
        "colab_type": "code",
        "colab": {
          "base_uri": "https://localhost:8080/",
          "height": 34
        },
        "outputId": "5a2c1619-45e6-408c-da74-405122b37ed7"
      },
      "source": [
        "ts = time.time()\n",
        "group = train.groupby(['date_block_num','shop_id','item_id']).agg({'item_cnt_day': ['sum']})\n",
        "group.columns = ['item_cnt_month']\n",
        "group.reset_index(inplace=True)\n",
        "\n",
        "matrix = pd.merge(matrix, group, on=cols, how='left')\n",
        "matrix['item_cnt_month'] = (matrix['item_cnt_month']\n",
        "                                .fillna(0)\n",
        "                                .clip(0,20) # NB clip target here\n",
        "                                .astype(np.float16))\n",
        "time.time() - ts"
      ],
      "execution_count": 23,
      "outputs": [
        {
          "output_type": "execute_result",
          "data": {
            "text/plain": [
              "4.9332191944122314"
            ]
          },
          "metadata": {
            "tags": []
          },
          "execution_count": 23
        }
      ]
    },
    {
      "cell_type": "markdown",
      "metadata": {
        "id": "Q0rhPweh4VrU",
        "colab_type": "text"
      },
      "source": [
        "## Test set  \n",
        "\n",
        "To use time tricks append test pairs to the matrix."
      ]
    },
    {
      "cell_type": "code",
      "metadata": {
        "id": "0z--xpTC4Qr8",
        "colab_type": "code",
        "colab": {}
      },
      "source": [
        "test['date_block_num'] = 34\n",
        "test['date_block_num'] = test['date_block_num'].astype(np.int8)\n",
        "test['shop_id'] = test['shop_id'].astype(np.int8)\n",
        "test['item_id'] = test['item_id'].astype(np.int16)"
      ],
      "execution_count": 24,
      "outputs": []
    },
    {
      "cell_type": "code",
      "metadata": {
        "id": "GUGfuabh4ZW8",
        "colab_type": "code",
        "colab": {
          "base_uri": "https://localhost:8080/",
          "height": 34
        },
        "outputId": "84865a7b-d528-4bf7-d55c-a8564223edb6"
      },
      "source": [
        "ts = time.time()\n",
        "matrix = pd.concat([matrix, test], ignore_index=True, sort=False, keys=cols)\n",
        "matrix.fillna(0, inplace=True) # 34 month\n",
        "time.time() - ts"
      ],
      "execution_count": 25,
      "outputs": [
        {
          "output_type": "execute_result",
          "data": {
            "text/plain": [
              "0.07674407958984375"
            ]
          },
          "metadata": {
            "tags": []
          },
          "execution_count": 25
        }
      ]
    },
    {
      "cell_type": "markdown",
      "metadata": {
        "id": "GCvdkQxx4gRf",
        "colab_type": "text"
      },
      "source": [
        "## Shops/Items/Cats features"
      ]
    },
    {
      "cell_type": "code",
      "metadata": {
        "id": "C5yRmkbL4csk",
        "colab_type": "code",
        "colab": {
          "base_uri": "https://localhost:8080/",
          "height": 34
        },
        "outputId": "de593526-8775-4492-c0f7-b13077961bb3"
      },
      "source": [
        "ts = time.time()\n",
        "matrix = pd.merge(matrix, shops, on=['shop_id'], how='left')\n",
        "matrix = pd.merge(matrix, items, on=['item_id'], how='left')\n",
        "matrix = pd.merge(matrix, cats, on=['item_category_id'], how='left')\n",
        "matrix['city_code'] = matrix['city_code'].astype(np.int8)\n",
        "matrix['item_category_id'] = matrix['item_category_id'].astype(np.int8)\n",
        "matrix['type_code'] = matrix['type_code'].astype(np.int8)\n",
        "matrix['subtype_code'] = matrix['subtype_code'].astype(np.int8)\n",
        "time.time() - ts"
      ],
      "execution_count": 26,
      "outputs": [
        {
          "output_type": "execute_result",
          "data": {
            "text/plain": [
              "3.4770710468292236"
            ]
          },
          "metadata": {
            "tags": []
          },
          "execution_count": 26
        }
      ]
    },
    {
      "cell_type": "markdown",
      "metadata": {
        "id": "reHDMEFv4o0j",
        "colab_type": "text"
      },
      "source": [
        "## Traget lags"
      ]
    },
    {
      "cell_type": "code",
      "metadata": {
        "id": "_kSXCT5H4jV0",
        "colab_type": "code",
        "colab": {}
      },
      "source": [
        "def lag_feature(df, lags, col):\n",
        "    tmp = df[['date_block_num','shop_id','item_id',col]]\n",
        "    for i in lags:\n",
        "        shifted = tmp.copy()\n",
        "        shifted.columns = ['date_block_num','shop_id','item_id', col+'_lag_'+str(i)]\n",
        "        shifted['date_block_num'] += i\n",
        "        df = pd.merge(df, shifted, on=['date_block_num','shop_id','item_id'], how='left')\n",
        "    return df"
      ],
      "execution_count": 27,
      "outputs": []
    },
    {
      "cell_type": "code",
      "metadata": {
        "id": "kICHUZMq4q8E",
        "colab_type": "code",
        "colab": {
          "base_uri": "https://localhost:8080/",
          "height": 34
        },
        "outputId": "4bc3a7e2-5202-47b2-e499-c34c0d8cabfc"
      },
      "source": [
        "ts = time.time()\n",
        "matrix = lag_feature(matrix, [1,2,3,6,12], 'item_cnt_month')\n",
        "time.time() - ts"
      ],
      "execution_count": 28,
      "outputs": [
        {
          "output_type": "execute_result",
          "data": {
            "text/plain": [
              "30.063385009765625"
            ]
          },
          "metadata": {
            "tags": []
          },
          "execution_count": 28
        }
      ]
    },
    {
      "cell_type": "markdown",
      "metadata": {
        "id": "X9MjkzXX49tD",
        "colab_type": "text"
      },
      "source": [
        "## Mean encoded features"
      ]
    },
    {
      "cell_type": "code",
      "metadata": {
        "id": "4y2Hzar44syM",
        "colab_type": "code",
        "colab": {
          "base_uri": "https://localhost:8080/",
          "height": 34
        },
        "outputId": "528ee9c9-336f-4baa-9e83-9f947d7ceb6c"
      },
      "source": [
        "ts = time.time()\n",
        "group = matrix.groupby(['date_block_num']).agg({'item_cnt_month': ['mean']})\n",
        "group.columns = [ 'date_avg_item_cnt' ]\n",
        "group.reset_index(inplace=True)\n",
        "\n",
        "matrix = pd.merge(matrix, group, on=['date_block_num'], how='left')\n",
        "matrix['date_avg_item_cnt'] = matrix['date_avg_item_cnt'].astype(np.float16)\n",
        "matrix = lag_feature(matrix, [1], 'date_avg_item_cnt')\n",
        "matrix.drop(['date_avg_item_cnt'], axis=1, inplace=True)\n",
        "time.time() - ts"
      ],
      "execution_count": 29,
      "outputs": [
        {
          "output_type": "execute_result",
          "data": {
            "text/plain": [
              "9.586293935775757"
            ]
          },
          "metadata": {
            "tags": []
          },
          "execution_count": 29
        }
      ]
    },
    {
      "cell_type": "code",
      "metadata": {
        "id": "S-JW5G6n5BM1",
        "colab_type": "code",
        "colab": {
          "base_uri": "https://localhost:8080/",
          "height": 34
        },
        "outputId": "9a05f682-1468-49aa-e84e-53d841e9edab"
      },
      "source": [
        "ts = time.time()\n",
        "group = matrix.groupby(['date_block_num', 'item_id']).agg({'item_cnt_month': ['mean']})\n",
        "group.columns = [ 'date_item_avg_item_cnt' ]\n",
        "group.reset_index(inplace=True)\n",
        "\n",
        "matrix = pd.merge(matrix, group, on=['date_block_num','item_id'], how='left')\n",
        "matrix['date_item_avg_item_cnt'] = matrix['date_item_avg_item_cnt'].astype(np.float16)\n",
        "matrix = lag_feature(matrix, [1,2,3,6,12], 'date_item_avg_item_cnt')\n",
        "matrix.drop(['date_item_avg_item_cnt'], axis=1, inplace=True)\n",
        "time.time() - ts"
      ],
      "execution_count": 30,
      "outputs": [
        {
          "output_type": "execute_result",
          "data": {
            "text/plain": [
              "35.337875843048096"
            ]
          },
          "metadata": {
            "tags": []
          },
          "execution_count": 30
        }
      ]
    },
    {
      "cell_type": "code",
      "metadata": {
        "id": "UqC8RsPd5Gul",
        "colab_type": "code",
        "colab": {
          "base_uri": "https://localhost:8080/",
          "height": 34
        },
        "outputId": "717a0c7b-9b0f-4d3b-a0b0-9a3305eec0a4"
      },
      "source": [
        "ts = time.time()\n",
        "group = matrix.groupby(['date_block_num', 'shop_id']).agg({'item_cnt_month': ['mean']})\n",
        "group.columns = [ 'date_shop_avg_item_cnt' ]\n",
        "group.reset_index(inplace=True)\n",
        "\n",
        "matrix = pd.merge(matrix, group, on=['date_block_num','shop_id'], how='left')\n",
        "matrix['date_shop_avg_item_cnt'] = matrix['date_shop_avg_item_cnt'].astype(np.float16)\n",
        "matrix = lag_feature(matrix, [1,2,3,6,12], 'date_shop_avg_item_cnt')\n",
        "matrix.drop(['date_shop_avg_item_cnt'], axis=1, inplace=True)\n",
        "time.time() - ts"
      ],
      "execution_count": 31,
      "outputs": [
        {
          "output_type": "execute_result",
          "data": {
            "text/plain": [
              "37.10193419456482"
            ]
          },
          "metadata": {
            "tags": []
          },
          "execution_count": 31
        }
      ]
    },
    {
      "cell_type": "code",
      "metadata": {
        "id": "_Powit4v5Qez",
        "colab_type": "code",
        "colab": {
          "base_uri": "https://localhost:8080/",
          "height": 34
        },
        "outputId": "b1f1423c-a156-42e3-c188-1fe8d8a2d611"
      },
      "source": [
        "ts = time.time()\n",
        "group = matrix.groupby(['date_block_num', 'item_category_id']).agg({'item_cnt_month': ['mean']})\n",
        "group.columns = [ 'date_cat_avg_item_cnt' ]\n",
        "group.reset_index(inplace=True)\n",
        "\n",
        "matrix = pd.merge(matrix, group, on=['date_block_num','item_category_id'], how='left')\n",
        "matrix['date_cat_avg_item_cnt'] = matrix['date_cat_avg_item_cnt'].astype(np.float16)\n",
        "matrix = lag_feature(matrix, [1], 'date_cat_avg_item_cnt')\n",
        "matrix.drop(['date_cat_avg_item_cnt'], axis=1, inplace=True)\n",
        "time.time() - ts"
      ],
      "execution_count": 32,
      "outputs": [
        {
          "output_type": "execute_result",
          "data": {
            "text/plain": [
              "12.630148887634277"
            ]
          },
          "metadata": {
            "tags": []
          },
          "execution_count": 32
        }
      ]
    },
    {
      "cell_type": "code",
      "metadata": {
        "id": "-HYm-ISo5aWz",
        "colab_type": "code",
        "colab": {
          "base_uri": "https://localhost:8080/",
          "height": 34
        },
        "outputId": "4bde89ff-812a-40c0-863b-c3b548f75a47"
      },
      "source": [
        "ts = time.time()\n",
        "group = matrix.groupby(['date_block_num', 'shop_id', 'item_category_id']).agg({'item_cnt_month': ['mean']})\n",
        "group.columns = ['date_shop_cat_avg_item_cnt']\n",
        "group.reset_index(inplace=True)\n",
        "\n",
        "matrix = pd.merge(matrix, group, on=['date_block_num', 'shop_id', 'item_category_id'], how='left')\n",
        "matrix['date_shop_cat_avg_item_cnt'] = matrix['date_shop_cat_avg_item_cnt'].astype(np.float16)\n",
        "matrix = lag_feature(matrix, [1], 'date_shop_cat_avg_item_cnt')\n",
        "matrix.drop(['date_shop_cat_avg_item_cnt'], axis=1, inplace=True)\n",
        "time.time() - ts"
      ],
      "execution_count": 33,
      "outputs": [
        {
          "output_type": "execute_result",
          "data": {
            "text/plain": [
              "13.143720865249634"
            ]
          },
          "metadata": {
            "tags": []
          },
          "execution_count": 33
        }
      ]
    },
    {
      "cell_type": "code",
      "metadata": {
        "id": "QdZwSwrB5eQC",
        "colab_type": "code",
        "colab": {
          "base_uri": "https://localhost:8080/",
          "height": 34
        },
        "outputId": "9ffaac1c-3465-43ca-94e7-6aa890972b5c"
      },
      "source": [
        "ts = time.time()\n",
        "group = matrix.groupby(['date_block_num', 'shop_id', 'type_code']).agg({'item_cnt_month': ['mean']})\n",
        "group.columns = ['date_shop_type_avg_item_cnt']\n",
        "group.reset_index(inplace=True)\n",
        "\n",
        "matrix = pd.merge(matrix, group, on=['date_block_num', 'shop_id', 'type_code'], how='left')\n",
        "matrix['date_shop_type_avg_item_cnt'] = matrix['date_shop_type_avg_item_cnt'].astype(np.float16)\n",
        "matrix = lag_feature(matrix, [1], 'date_shop_type_avg_item_cnt')\n",
        "matrix.drop(['date_shop_type_avg_item_cnt'], axis=1, inplace=True)\n",
        "time.time() - ts"
      ],
      "execution_count": 34,
      "outputs": [
        {
          "output_type": "execute_result",
          "data": {
            "text/plain": [
              "13.551355123519897"
            ]
          },
          "metadata": {
            "tags": []
          },
          "execution_count": 34
        }
      ]
    },
    {
      "cell_type": "code",
      "metadata": {
        "id": "jCklKp-Y5iHj",
        "colab_type": "code",
        "colab": {
          "base_uri": "https://localhost:8080/",
          "height": 34
        },
        "outputId": "1bb7ae0b-1319-4b1d-a1b2-9c8ae7576009"
      },
      "source": [
        "ts = time.time()\n",
        "group = matrix.groupby(['date_block_num', 'shop_id', 'subtype_code']).agg({'item_cnt_month': ['mean']})\n",
        "group.columns = ['date_shop_subtype_avg_item_cnt']\n",
        "group.reset_index(inplace=True)\n",
        "\n",
        "matrix = pd.merge(matrix, group, on=['date_block_num', 'shop_id', 'subtype_code'], how='left')\n",
        "matrix['date_shop_subtype_avg_item_cnt'] = matrix['date_shop_subtype_avg_item_cnt'].astype(np.float16)\n",
        "matrix = lag_feature(matrix, [1], 'date_shop_subtype_avg_item_cnt')\n",
        "matrix.drop(['date_shop_subtype_avg_item_cnt'], axis=1, inplace=True)\n",
        "time.time() - ts"
      ],
      "execution_count": 35,
      "outputs": [
        {
          "output_type": "execute_result",
          "data": {
            "text/plain": [
              "13.69980764389038"
            ]
          },
          "metadata": {
            "tags": []
          },
          "execution_count": 35
        }
      ]
    },
    {
      "cell_type": "code",
      "metadata": {
        "id": "Ny4CKOLa5mLK",
        "colab_type": "code",
        "colab": {
          "base_uri": "https://localhost:8080/",
          "height": 34
        },
        "outputId": "ff593b89-e4a4-4862-f321-82d2db3e2d34"
      },
      "source": [
        "ts = time.time()\n",
        "group = matrix.groupby(['date_block_num', 'city_code']).agg({'item_cnt_month': ['mean']})\n",
        "group.columns = [ 'date_city_avg_item_cnt' ]\n",
        "group.reset_index(inplace=True)\n",
        "\n",
        "matrix = pd.merge(matrix, group, on=['date_block_num', 'city_code'], how='left')\n",
        "matrix['date_city_avg_item_cnt'] = matrix['date_city_avg_item_cnt'].astype(np.float16)\n",
        "matrix = lag_feature(matrix, [1], 'date_city_avg_item_cnt')\n",
        "matrix.drop(['date_city_avg_item_cnt'], axis=1, inplace=True)\n",
        "time.time() - ts"
      ],
      "execution_count": 36,
      "outputs": [
        {
          "output_type": "execute_result",
          "data": {
            "text/plain": [
              "13.766958236694336"
            ]
          },
          "metadata": {
            "tags": []
          },
          "execution_count": 36
        }
      ]
    },
    {
      "cell_type": "code",
      "metadata": {
        "id": "ZFLVrfdi5qH7",
        "colab_type": "code",
        "colab": {
          "base_uri": "https://localhost:8080/",
          "height": 34
        },
        "outputId": "94e07ea0-3c42-4fbf-b93e-150f137513ff"
      },
      "source": [
        "ts = time.time()\n",
        "group = matrix.groupby(['date_block_num', 'item_id', 'city_code']).agg({'item_cnt_month': ['mean']})\n",
        "group.columns = [ 'date_item_city_avg_item_cnt' ]\n",
        "group.reset_index(inplace=True)\n",
        "\n",
        "matrix = pd.merge(matrix, group, on=['date_block_num', 'item_id', 'city_code'], how='left')\n",
        "matrix['date_item_city_avg_item_cnt'] = matrix['date_item_city_avg_item_cnt'].astype(np.float16)\n",
        "matrix = lag_feature(matrix, [1], 'date_item_city_avg_item_cnt')\n",
        "matrix.drop(['date_item_city_avg_item_cnt'], axis=1, inplace=True)\n",
        "time.time() - ts"
      ],
      "execution_count": 37,
      "outputs": [
        {
          "output_type": "execute_result",
          "data": {
            "text/plain": [
              "20.66168737411499"
            ]
          },
          "metadata": {
            "tags": []
          },
          "execution_count": 37
        }
      ]
    },
    {
      "cell_type": "code",
      "metadata": {
        "id": "10Zh5Jrn5uFC",
        "colab_type": "code",
        "colab": {
          "base_uri": "https://localhost:8080/",
          "height": 34
        },
        "outputId": "c0a84dfc-99c3-436c-8311-4bc410639b11"
      },
      "source": [
        "ts = time.time()\n",
        "group = matrix.groupby(['date_block_num', 'type_code']).agg({'item_cnt_month': ['mean']})\n",
        "group.columns = [ 'date_type_avg_item_cnt' ]\n",
        "group.reset_index(inplace=True)\n",
        "\n",
        "matrix = pd.merge(matrix, group, on=['date_block_num', 'type_code'], how='left')\n",
        "matrix['date_type_avg_item_cnt'] = matrix['date_type_avg_item_cnt'].astype(np.float16)\n",
        "matrix = lag_feature(matrix, [1], 'date_type_avg_item_cnt')\n",
        "matrix.drop(['date_type_avg_item_cnt'], axis=1, inplace=True)\n",
        "time.time() - ts"
      ],
      "execution_count": 38,
      "outputs": [
        {
          "output_type": "execute_result",
          "data": {
            "text/plain": [
              "14.229442596435547"
            ]
          },
          "metadata": {
            "tags": []
          },
          "execution_count": 38
        }
      ]
    },
    {
      "cell_type": "code",
      "metadata": {
        "id": "pkeKYfb-5zpi",
        "colab_type": "code",
        "colab": {
          "base_uri": "https://localhost:8080/",
          "height": 34
        },
        "outputId": "da8b8353-0e19-4499-963a-8eb2176c6300"
      },
      "source": [
        "ts = time.time()\n",
        "group = matrix.groupby(['date_block_num', 'subtype_code']).agg({'item_cnt_month': ['mean']})\n",
        "group.columns = [ 'date_subtype_avg_item_cnt' ]\n",
        "group.reset_index(inplace=True)\n",
        "\n",
        "matrix = pd.merge(matrix, group, on=['date_block_num', 'subtype_code'], how='left')\n",
        "matrix['date_subtype_avg_item_cnt'] = matrix['date_subtype_avg_item_cnt'].astype(np.float16)\n",
        "matrix = lag_feature(matrix, [1], 'date_subtype_avg_item_cnt')\n",
        "matrix.drop(['date_subtype_avg_item_cnt'], axis=1, inplace=True)\n",
        "time.time() - ts"
      ],
      "execution_count": 39,
      "outputs": [
        {
          "output_type": "execute_result",
          "data": {
            "text/plain": [
              "14.211174011230469"
            ]
          },
          "metadata": {
            "tags": []
          },
          "execution_count": 39
        }
      ]
    },
    {
      "cell_type": "markdown",
      "metadata": {
        "id": "jWouFuv258bD",
        "colab_type": "text"
      },
      "source": [
        "## Trend features  \n",
        "Price trend for the last six months."
      ]
    },
    {
      "cell_type": "code",
      "metadata": {
        "id": "xRtWeFgM7QY2",
        "colab_type": "code",
        "colab": {
          "base_uri": "https://localhost:8080/",
          "height": 439
        },
        "outputId": "48429ce1-a229-43b9-a962-243ef4837ff1"
      },
      "source": [
        "matrix"
      ],
      "execution_count": 40,
      "outputs": [
        {
          "output_type": "execute_result",
          "data": {
            "text/html": [
              "<div>\n",
              "<style scoped>\n",
              "    .dataframe tbody tr th:only-of-type {\n",
              "        vertical-align: middle;\n",
              "    }\n",
              "\n",
              "    .dataframe tbody tr th {\n",
              "        vertical-align: top;\n",
              "    }\n",
              "\n",
              "    .dataframe thead th {\n",
              "        text-align: right;\n",
              "    }\n",
              "</style>\n",
              "<table border=\"1\" class=\"dataframe\">\n",
              "  <thead>\n",
              "    <tr style=\"text-align: right;\">\n",
              "      <th></th>\n",
              "      <th>date_block_num</th>\n",
              "      <th>shop_id</th>\n",
              "      <th>item_id</th>\n",
              "      <th>item_cnt_month</th>\n",
              "      <th>city_code</th>\n",
              "      <th>item_category_id</th>\n",
              "      <th>type_code</th>\n",
              "      <th>subtype_code</th>\n",
              "      <th>item_cnt_month_lag_1</th>\n",
              "      <th>item_cnt_month_lag_2</th>\n",
              "      <th>item_cnt_month_lag_3</th>\n",
              "      <th>item_cnt_month_lag_6</th>\n",
              "      <th>item_cnt_month_lag_12</th>\n",
              "      <th>date_avg_item_cnt_lag_1</th>\n",
              "      <th>date_item_avg_item_cnt_lag_1</th>\n",
              "      <th>date_item_avg_item_cnt_lag_2</th>\n",
              "      <th>date_item_avg_item_cnt_lag_3</th>\n",
              "      <th>date_item_avg_item_cnt_lag_6</th>\n",
              "      <th>date_item_avg_item_cnt_lag_12</th>\n",
              "      <th>date_shop_avg_item_cnt_lag_1</th>\n",
              "      <th>date_shop_avg_item_cnt_lag_2</th>\n",
              "      <th>date_shop_avg_item_cnt_lag_3</th>\n",
              "      <th>date_shop_avg_item_cnt_lag_6</th>\n",
              "      <th>date_shop_avg_item_cnt_lag_12</th>\n",
              "      <th>date_cat_avg_item_cnt_lag_1</th>\n",
              "      <th>date_shop_cat_avg_item_cnt_lag_1</th>\n",
              "      <th>date_shop_type_avg_item_cnt_lag_1</th>\n",
              "      <th>date_shop_subtype_avg_item_cnt_lag_1</th>\n",
              "      <th>date_city_avg_item_cnt_lag_1</th>\n",
              "      <th>date_item_city_avg_item_cnt_lag_1</th>\n",
              "      <th>date_type_avg_item_cnt_lag_1</th>\n",
              "      <th>date_subtype_avg_item_cnt_lag_1</th>\n",
              "    </tr>\n",
              "  </thead>\n",
              "  <tbody>\n",
              "    <tr>\n",
              "      <th>0</th>\n",
              "      <td>0</td>\n",
              "      <td>2</td>\n",
              "      <td>19</td>\n",
              "      <td>0.0</td>\n",
              "      <td>0</td>\n",
              "      <td>40</td>\n",
              "      <td>11</td>\n",
              "      <td>4</td>\n",
              "      <td>NaN</td>\n",
              "      <td>NaN</td>\n",
              "      <td>NaN</td>\n",
              "      <td>NaN</td>\n",
              "      <td>NaN</td>\n",
              "      <td>NaN</td>\n",
              "      <td>NaN</td>\n",
              "      <td>NaN</td>\n",
              "      <td>NaN</td>\n",
              "      <td>NaN</td>\n",
              "      <td>NaN</td>\n",
              "      <td>NaN</td>\n",
              "      <td>NaN</td>\n",
              "      <td>NaN</td>\n",
              "      <td>NaN</td>\n",
              "      <td>NaN</td>\n",
              "      <td>NaN</td>\n",
              "      <td>NaN</td>\n",
              "      <td>NaN</td>\n",
              "      <td>NaN</td>\n",
              "      <td>NaN</td>\n",
              "      <td>NaN</td>\n",
              "      <td>NaN</td>\n",
              "      <td>NaN</td>\n",
              "    </tr>\n",
              "    <tr>\n",
              "      <th>1</th>\n",
              "      <td>0</td>\n",
              "      <td>2</td>\n",
              "      <td>27</td>\n",
              "      <td>1.0</td>\n",
              "      <td>0</td>\n",
              "      <td>19</td>\n",
              "      <td>5</td>\n",
              "      <td>10</td>\n",
              "      <td>NaN</td>\n",
              "      <td>NaN</td>\n",
              "      <td>NaN</td>\n",
              "      <td>NaN</td>\n",
              "      <td>NaN</td>\n",
              "      <td>NaN</td>\n",
              "      <td>NaN</td>\n",
              "      <td>NaN</td>\n",
              "      <td>NaN</td>\n",
              "      <td>NaN</td>\n",
              "      <td>NaN</td>\n",
              "      <td>NaN</td>\n",
              "      <td>NaN</td>\n",
              "      <td>NaN</td>\n",
              "      <td>NaN</td>\n",
              "      <td>NaN</td>\n",
              "      <td>NaN</td>\n",
              "      <td>NaN</td>\n",
              "      <td>NaN</td>\n",
              "      <td>NaN</td>\n",
              "      <td>NaN</td>\n",
              "      <td>NaN</td>\n",
              "      <td>NaN</td>\n",
              "      <td>NaN</td>\n",
              "    </tr>\n",
              "    <tr>\n",
              "      <th>2</th>\n",
              "      <td>0</td>\n",
              "      <td>2</td>\n",
              "      <td>28</td>\n",
              "      <td>0.0</td>\n",
              "      <td>0</td>\n",
              "      <td>30</td>\n",
              "      <td>8</td>\n",
              "      <td>55</td>\n",
              "      <td>NaN</td>\n",
              "      <td>NaN</td>\n",
              "      <td>NaN</td>\n",
              "      <td>NaN</td>\n",
              "      <td>NaN</td>\n",
              "      <td>NaN</td>\n",
              "      <td>NaN</td>\n",
              "      <td>NaN</td>\n",
              "      <td>NaN</td>\n",
              "      <td>NaN</td>\n",
              "      <td>NaN</td>\n",
              "      <td>NaN</td>\n",
              "      <td>NaN</td>\n",
              "      <td>NaN</td>\n",
              "      <td>NaN</td>\n",
              "      <td>NaN</td>\n",
              "      <td>NaN</td>\n",
              "      <td>NaN</td>\n",
              "      <td>NaN</td>\n",
              "      <td>NaN</td>\n",
              "      <td>NaN</td>\n",
              "      <td>NaN</td>\n",
              "      <td>NaN</td>\n",
              "      <td>NaN</td>\n",
              "    </tr>\n",
              "    <tr>\n",
              "      <th>3</th>\n",
              "      <td>0</td>\n",
              "      <td>2</td>\n",
              "      <td>29</td>\n",
              "      <td>0.0</td>\n",
              "      <td>0</td>\n",
              "      <td>23</td>\n",
              "      <td>5</td>\n",
              "      <td>16</td>\n",
              "      <td>NaN</td>\n",
              "      <td>NaN</td>\n",
              "      <td>NaN</td>\n",
              "      <td>NaN</td>\n",
              "      <td>NaN</td>\n",
              "      <td>NaN</td>\n",
              "      <td>NaN</td>\n",
              "      <td>NaN</td>\n",
              "      <td>NaN</td>\n",
              "      <td>NaN</td>\n",
              "      <td>NaN</td>\n",
              "      <td>NaN</td>\n",
              "      <td>NaN</td>\n",
              "      <td>NaN</td>\n",
              "      <td>NaN</td>\n",
              "      <td>NaN</td>\n",
              "      <td>NaN</td>\n",
              "      <td>NaN</td>\n",
              "      <td>NaN</td>\n",
              "      <td>NaN</td>\n",
              "      <td>NaN</td>\n",
              "      <td>NaN</td>\n",
              "      <td>NaN</td>\n",
              "      <td>NaN</td>\n",
              "    </tr>\n",
              "    <tr>\n",
              "      <th>4</th>\n",
              "      <td>0</td>\n",
              "      <td>2</td>\n",
              "      <td>32</td>\n",
              "      <td>0.0</td>\n",
              "      <td>0</td>\n",
              "      <td>40</td>\n",
              "      <td>11</td>\n",
              "      <td>4</td>\n",
              "      <td>NaN</td>\n",
              "      <td>NaN</td>\n",
              "      <td>NaN</td>\n",
              "      <td>NaN</td>\n",
              "      <td>NaN</td>\n",
              "      <td>NaN</td>\n",
              "      <td>NaN</td>\n",
              "      <td>NaN</td>\n",
              "      <td>NaN</td>\n",
              "      <td>NaN</td>\n",
              "      <td>NaN</td>\n",
              "      <td>NaN</td>\n",
              "      <td>NaN</td>\n",
              "      <td>NaN</td>\n",
              "      <td>NaN</td>\n",
              "      <td>NaN</td>\n",
              "      <td>NaN</td>\n",
              "      <td>NaN</td>\n",
              "      <td>NaN</td>\n",
              "      <td>NaN</td>\n",
              "      <td>NaN</td>\n",
              "      <td>NaN</td>\n",
              "      <td>NaN</td>\n",
              "      <td>NaN</td>\n",
              "    </tr>\n",
              "    <tr>\n",
              "      <th>...</th>\n",
              "      <td>...</td>\n",
              "      <td>...</td>\n",
              "      <td>...</td>\n",
              "      <td>...</td>\n",
              "      <td>...</td>\n",
              "      <td>...</td>\n",
              "      <td>...</td>\n",
              "      <td>...</td>\n",
              "      <td>...</td>\n",
              "      <td>...</td>\n",
              "      <td>...</td>\n",
              "      <td>...</td>\n",
              "      <td>...</td>\n",
              "      <td>...</td>\n",
              "      <td>...</td>\n",
              "      <td>...</td>\n",
              "      <td>...</td>\n",
              "      <td>...</td>\n",
              "      <td>...</td>\n",
              "      <td>...</td>\n",
              "      <td>...</td>\n",
              "      <td>...</td>\n",
              "      <td>...</td>\n",
              "      <td>...</td>\n",
              "      <td>...</td>\n",
              "      <td>...</td>\n",
              "      <td>...</td>\n",
              "      <td>...</td>\n",
              "      <td>...</td>\n",
              "      <td>...</td>\n",
              "      <td>...</td>\n",
              "      <td>...</td>\n",
              "    </tr>\n",
              "    <tr>\n",
              "      <th>11127999</th>\n",
              "      <td>34</td>\n",
              "      <td>45</td>\n",
              "      <td>18454</td>\n",
              "      <td>0.0</td>\n",
              "      <td>20</td>\n",
              "      <td>55</td>\n",
              "      <td>13</td>\n",
              "      <td>2</td>\n",
              "      <td>1.0</td>\n",
              "      <td>0.0</td>\n",
              "      <td>0.0</td>\n",
              "      <td>0.0</td>\n",
              "      <td>NaN</td>\n",
              "      <td>0.258545</td>\n",
              "      <td>0.045441</td>\n",
              "      <td>0.023254</td>\n",
              "      <td>0.071411</td>\n",
              "      <td>0.590820</td>\n",
              "      <td>NaN</td>\n",
              "      <td>0.126709</td>\n",
              "      <td>0.128784</td>\n",
              "      <td>0.139038</td>\n",
              "      <td>0.137573</td>\n",
              "      <td>NaN</td>\n",
              "      <td>0.196899</td>\n",
              "      <td>0.126831</td>\n",
              "      <td>0.089294</td>\n",
              "      <td>0.126831</td>\n",
              "      <td>0.135376</td>\n",
              "      <td>0.5</td>\n",
              "      <td>0.146973</td>\n",
              "      <td>0.196899</td>\n",
              "    </tr>\n",
              "    <tr>\n",
              "      <th>11128000</th>\n",
              "      <td>34</td>\n",
              "      <td>45</td>\n",
              "      <td>16188</td>\n",
              "      <td>0.0</td>\n",
              "      <td>20</td>\n",
              "      <td>64</td>\n",
              "      <td>14</td>\n",
              "      <td>42</td>\n",
              "      <td>0.0</td>\n",
              "      <td>0.0</td>\n",
              "      <td>NaN</td>\n",
              "      <td>NaN</td>\n",
              "      <td>NaN</td>\n",
              "      <td>0.258545</td>\n",
              "      <td>0.022720</td>\n",
              "      <td>0.069763</td>\n",
              "      <td>NaN</td>\n",
              "      <td>NaN</td>\n",
              "      <td>NaN</td>\n",
              "      <td>0.126709</td>\n",
              "      <td>0.128784</td>\n",
              "      <td>NaN</td>\n",
              "      <td>NaN</td>\n",
              "      <td>NaN</td>\n",
              "      <td>0.155884</td>\n",
              "      <td>0.094482</td>\n",
              "      <td>0.106201</td>\n",
              "      <td>0.094482</td>\n",
              "      <td>0.135376</td>\n",
              "      <td>0.0</td>\n",
              "      <td>0.237305</td>\n",
              "      <td>0.155884</td>\n",
              "    </tr>\n",
              "    <tr>\n",
              "      <th>11128001</th>\n",
              "      <td>34</td>\n",
              "      <td>45</td>\n",
              "      <td>15757</td>\n",
              "      <td>0.0</td>\n",
              "      <td>20</td>\n",
              "      <td>55</td>\n",
              "      <td>13</td>\n",
              "      <td>2</td>\n",
              "      <td>0.0</td>\n",
              "      <td>0.0</td>\n",
              "      <td>0.0</td>\n",
              "      <td>0.0</td>\n",
              "      <td>0.0</td>\n",
              "      <td>0.258545</td>\n",
              "      <td>0.113647</td>\n",
              "      <td>0.069763</td>\n",
              "      <td>0.095215</td>\n",
              "      <td>0.250000</td>\n",
              "      <td>0.180054</td>\n",
              "      <td>0.126709</td>\n",
              "      <td>0.128784</td>\n",
              "      <td>0.139038</td>\n",
              "      <td>0.137573</td>\n",
              "      <td>0.181274</td>\n",
              "      <td>0.196899</td>\n",
              "      <td>0.126831</td>\n",
              "      <td>0.089294</td>\n",
              "      <td>0.126831</td>\n",
              "      <td>0.135376</td>\n",
              "      <td>0.0</td>\n",
              "      <td>0.146973</td>\n",
              "      <td>0.196899</td>\n",
              "    </tr>\n",
              "    <tr>\n",
              "      <th>11128002</th>\n",
              "      <td>34</td>\n",
              "      <td>45</td>\n",
              "      <td>19648</td>\n",
              "      <td>0.0</td>\n",
              "      <td>20</td>\n",
              "      <td>40</td>\n",
              "      <td>11</td>\n",
              "      <td>4</td>\n",
              "      <td>0.0</td>\n",
              "      <td>0.0</td>\n",
              "      <td>0.0</td>\n",
              "      <td>0.0</td>\n",
              "      <td>NaN</td>\n",
              "      <td>0.258545</td>\n",
              "      <td>0.045441</td>\n",
              "      <td>0.069763</td>\n",
              "      <td>0.166626</td>\n",
              "      <td>0.090881</td>\n",
              "      <td>NaN</td>\n",
              "      <td>0.126709</td>\n",
              "      <td>0.128784</td>\n",
              "      <td>0.139038</td>\n",
              "      <td>0.137573</td>\n",
              "      <td>NaN</td>\n",
              "      <td>0.220825</td>\n",
              "      <td>0.083740</td>\n",
              "      <td>0.097046</td>\n",
              "      <td>0.083740</td>\n",
              "      <td>0.135376</td>\n",
              "      <td>0.0</td>\n",
              "      <td>0.224243</td>\n",
              "      <td>0.220825</td>\n",
              "    </tr>\n",
              "    <tr>\n",
              "      <th>11128003</th>\n",
              "      <td>34</td>\n",
              "      <td>45</td>\n",
              "      <td>969</td>\n",
              "      <td>0.0</td>\n",
              "      <td>20</td>\n",
              "      <td>37</td>\n",
              "      <td>11</td>\n",
              "      <td>1</td>\n",
              "      <td>0.0</td>\n",
              "      <td>0.0</td>\n",
              "      <td>0.0</td>\n",
              "      <td>0.0</td>\n",
              "      <td>0.0</td>\n",
              "      <td>0.258545</td>\n",
              "      <td>0.068176</td>\n",
              "      <td>0.116272</td>\n",
              "      <td>0.023804</td>\n",
              "      <td>0.068176</td>\n",
              "      <td>0.119995</td>\n",
              "      <td>0.126709</td>\n",
              "      <td>0.128784</td>\n",
              "      <td>0.139038</td>\n",
              "      <td>0.137573</td>\n",
              "      <td>0.181274</td>\n",
              "      <td>0.256836</td>\n",
              "      <td>0.128174</td>\n",
              "      <td>0.097046</td>\n",
              "      <td>0.126343</td>\n",
              "      <td>0.135376</td>\n",
              "      <td>0.5</td>\n",
              "      <td>0.224243</td>\n",
              "      <td>0.240967</td>\n",
              "    </tr>\n",
              "  </tbody>\n",
              "</table>\n",
              "<p>11128004 rows × 32 columns</p>\n",
              "</div>"
            ],
            "text/plain": [
              "          date_block_num  shop_id  item_id  item_cnt_month  city_code  \\\n",
              "0                      0        2       19             0.0          0   \n",
              "1                      0        2       27             1.0          0   \n",
              "2                      0        2       28             0.0          0   \n",
              "3                      0        2       29             0.0          0   \n",
              "4                      0        2       32             0.0          0   \n",
              "...                  ...      ...      ...             ...        ...   \n",
              "11127999              34       45    18454             0.0         20   \n",
              "11128000              34       45    16188             0.0         20   \n",
              "11128001              34       45    15757             0.0         20   \n",
              "11128002              34       45    19648             0.0         20   \n",
              "11128003              34       45      969             0.0         20   \n",
              "\n",
              "          item_category_id  type_code  subtype_code  item_cnt_month_lag_1  \\\n",
              "0                       40         11             4                   NaN   \n",
              "1                       19          5            10                   NaN   \n",
              "2                       30          8            55                   NaN   \n",
              "3                       23          5            16                   NaN   \n",
              "4                       40         11             4                   NaN   \n",
              "...                    ...        ...           ...                   ...   \n",
              "11127999                55         13             2                   1.0   \n",
              "11128000                64         14            42                   0.0   \n",
              "11128001                55         13             2                   0.0   \n",
              "11128002                40         11             4                   0.0   \n",
              "11128003                37         11             1                   0.0   \n",
              "\n",
              "          item_cnt_month_lag_2  item_cnt_month_lag_3  item_cnt_month_lag_6  \\\n",
              "0                          NaN                   NaN                   NaN   \n",
              "1                          NaN                   NaN                   NaN   \n",
              "2                          NaN                   NaN                   NaN   \n",
              "3                          NaN                   NaN                   NaN   \n",
              "4                          NaN                   NaN                   NaN   \n",
              "...                        ...                   ...                   ...   \n",
              "11127999                   0.0                   0.0                   0.0   \n",
              "11128000                   0.0                   NaN                   NaN   \n",
              "11128001                   0.0                   0.0                   0.0   \n",
              "11128002                   0.0                   0.0                   0.0   \n",
              "11128003                   0.0                   0.0                   0.0   \n",
              "\n",
              "          item_cnt_month_lag_12  date_avg_item_cnt_lag_1  \\\n",
              "0                           NaN                      NaN   \n",
              "1                           NaN                      NaN   \n",
              "2                           NaN                      NaN   \n",
              "3                           NaN                      NaN   \n",
              "4                           NaN                      NaN   \n",
              "...                         ...                      ...   \n",
              "11127999                    NaN                 0.258545   \n",
              "11128000                    NaN                 0.258545   \n",
              "11128001                    0.0                 0.258545   \n",
              "11128002                    NaN                 0.258545   \n",
              "11128003                    0.0                 0.258545   \n",
              "\n",
              "          date_item_avg_item_cnt_lag_1  date_item_avg_item_cnt_lag_2  \\\n",
              "0                                  NaN                           NaN   \n",
              "1                                  NaN                           NaN   \n",
              "2                                  NaN                           NaN   \n",
              "3                                  NaN                           NaN   \n",
              "4                                  NaN                           NaN   \n",
              "...                                ...                           ...   \n",
              "11127999                      0.045441                      0.023254   \n",
              "11128000                      0.022720                      0.069763   \n",
              "11128001                      0.113647                      0.069763   \n",
              "11128002                      0.045441                      0.069763   \n",
              "11128003                      0.068176                      0.116272   \n",
              "\n",
              "          date_item_avg_item_cnt_lag_3  date_item_avg_item_cnt_lag_6  \\\n",
              "0                                  NaN                           NaN   \n",
              "1                                  NaN                           NaN   \n",
              "2                                  NaN                           NaN   \n",
              "3                                  NaN                           NaN   \n",
              "4                                  NaN                           NaN   \n",
              "...                                ...                           ...   \n",
              "11127999                      0.071411                      0.590820   \n",
              "11128000                           NaN                           NaN   \n",
              "11128001                      0.095215                      0.250000   \n",
              "11128002                      0.166626                      0.090881   \n",
              "11128003                      0.023804                      0.068176   \n",
              "\n",
              "          date_item_avg_item_cnt_lag_12  date_shop_avg_item_cnt_lag_1  \\\n",
              "0                                   NaN                           NaN   \n",
              "1                                   NaN                           NaN   \n",
              "2                                   NaN                           NaN   \n",
              "3                                   NaN                           NaN   \n",
              "4                                   NaN                           NaN   \n",
              "...                                 ...                           ...   \n",
              "11127999                            NaN                      0.126709   \n",
              "11128000                            NaN                      0.126709   \n",
              "11128001                       0.180054                      0.126709   \n",
              "11128002                            NaN                      0.126709   \n",
              "11128003                       0.119995                      0.126709   \n",
              "\n",
              "          date_shop_avg_item_cnt_lag_2  date_shop_avg_item_cnt_lag_3  \\\n",
              "0                                  NaN                           NaN   \n",
              "1                                  NaN                           NaN   \n",
              "2                                  NaN                           NaN   \n",
              "3                                  NaN                           NaN   \n",
              "4                                  NaN                           NaN   \n",
              "...                                ...                           ...   \n",
              "11127999                      0.128784                      0.139038   \n",
              "11128000                      0.128784                           NaN   \n",
              "11128001                      0.128784                      0.139038   \n",
              "11128002                      0.128784                      0.139038   \n",
              "11128003                      0.128784                      0.139038   \n",
              "\n",
              "          date_shop_avg_item_cnt_lag_6  date_shop_avg_item_cnt_lag_12  \\\n",
              "0                                  NaN                            NaN   \n",
              "1                                  NaN                            NaN   \n",
              "2                                  NaN                            NaN   \n",
              "3                                  NaN                            NaN   \n",
              "4                                  NaN                            NaN   \n",
              "...                                ...                            ...   \n",
              "11127999                      0.137573                            NaN   \n",
              "11128000                           NaN                            NaN   \n",
              "11128001                      0.137573                       0.181274   \n",
              "11128002                      0.137573                            NaN   \n",
              "11128003                      0.137573                       0.181274   \n",
              "\n",
              "          date_cat_avg_item_cnt_lag_1  date_shop_cat_avg_item_cnt_lag_1  \\\n",
              "0                                 NaN                               NaN   \n",
              "1                                 NaN                               NaN   \n",
              "2                                 NaN                               NaN   \n",
              "3                                 NaN                               NaN   \n",
              "4                                 NaN                               NaN   \n",
              "...                               ...                               ...   \n",
              "11127999                     0.196899                          0.126831   \n",
              "11128000                     0.155884                          0.094482   \n",
              "11128001                     0.196899                          0.126831   \n",
              "11128002                     0.220825                          0.083740   \n",
              "11128003                     0.256836                          0.128174   \n",
              "\n",
              "          date_shop_type_avg_item_cnt_lag_1  \\\n",
              "0                                       NaN   \n",
              "1                                       NaN   \n",
              "2                                       NaN   \n",
              "3                                       NaN   \n",
              "4                                       NaN   \n",
              "...                                     ...   \n",
              "11127999                           0.089294   \n",
              "11128000                           0.106201   \n",
              "11128001                           0.089294   \n",
              "11128002                           0.097046   \n",
              "11128003                           0.097046   \n",
              "\n",
              "          date_shop_subtype_avg_item_cnt_lag_1  date_city_avg_item_cnt_lag_1  \\\n",
              "0                                          NaN                           NaN   \n",
              "1                                          NaN                           NaN   \n",
              "2                                          NaN                           NaN   \n",
              "3                                          NaN                           NaN   \n",
              "4                                          NaN                           NaN   \n",
              "...                                        ...                           ...   \n",
              "11127999                              0.126831                      0.135376   \n",
              "11128000                              0.094482                      0.135376   \n",
              "11128001                              0.126831                      0.135376   \n",
              "11128002                              0.083740                      0.135376   \n",
              "11128003                              0.126343                      0.135376   \n",
              "\n",
              "          date_item_city_avg_item_cnt_lag_1  date_type_avg_item_cnt_lag_1  \\\n",
              "0                                       NaN                           NaN   \n",
              "1                                       NaN                           NaN   \n",
              "2                                       NaN                           NaN   \n",
              "3                                       NaN                           NaN   \n",
              "4                                       NaN                           NaN   \n",
              "...                                     ...                           ...   \n",
              "11127999                                0.5                      0.146973   \n",
              "11128000                                0.0                      0.237305   \n",
              "11128001                                0.0                      0.146973   \n",
              "11128002                                0.0                      0.224243   \n",
              "11128003                                0.5                      0.224243   \n",
              "\n",
              "          date_subtype_avg_item_cnt_lag_1  \n",
              "0                                     NaN  \n",
              "1                                     NaN  \n",
              "2                                     NaN  \n",
              "3                                     NaN  \n",
              "4                                     NaN  \n",
              "...                                   ...  \n",
              "11127999                         0.196899  \n",
              "11128000                         0.155884  \n",
              "11128001                         0.196899  \n",
              "11128002                         0.220825  \n",
              "11128003                         0.240967  \n",
              "\n",
              "[11128004 rows x 32 columns]"
            ]
          },
          "metadata": {
            "tags": []
          },
          "execution_count": 40
        }
      ]
    },
    {
      "cell_type": "code",
      "metadata": {
        "id": "DhqDIroL7kH8",
        "colab_type": "code",
        "colab": {}
      },
      "source": [
        "ts = time.time()\n",
        "group = train.groupby(['item_id']).agg({'item_price': ['mean']})\n",
        "group.columns = ['item_avg_item_price']\n",
        "group.reset_index(inplace=True)"
      ],
      "execution_count": 43,
      "outputs": []
    },
    {
      "cell_type": "code",
      "metadata": {
        "id": "XTo2jWKi7nb7",
        "colab_type": "code",
        "colab": {
          "base_uri": "https://localhost:8080/",
          "height": 439
        },
        "outputId": "70854cfe-d1e7-4520-d331-78fe97e4cdd7"
      },
      "source": [
        "matrix"
      ],
      "execution_count": 48,
      "outputs": [
        {
          "output_type": "execute_result",
          "data": {
            "text/html": [
              "<div>\n",
              "<style scoped>\n",
              "    .dataframe tbody tr th:only-of-type {\n",
              "        vertical-align: middle;\n",
              "    }\n",
              "\n",
              "    .dataframe tbody tr th {\n",
              "        vertical-align: top;\n",
              "    }\n",
              "\n",
              "    .dataframe thead th {\n",
              "        text-align: right;\n",
              "    }\n",
              "</style>\n",
              "<table border=\"1\" class=\"dataframe\">\n",
              "  <thead>\n",
              "    <tr style=\"text-align: right;\">\n",
              "      <th></th>\n",
              "      <th>date_block_num</th>\n",
              "      <th>shop_id</th>\n",
              "      <th>item_id</th>\n",
              "      <th>item_cnt_month</th>\n",
              "      <th>city_code</th>\n",
              "      <th>item_category_id</th>\n",
              "      <th>type_code</th>\n",
              "      <th>subtype_code</th>\n",
              "      <th>item_cnt_month_lag_1</th>\n",
              "      <th>item_cnt_month_lag_2</th>\n",
              "      <th>item_cnt_month_lag_3</th>\n",
              "      <th>item_cnt_month_lag_6</th>\n",
              "      <th>item_cnt_month_lag_12</th>\n",
              "      <th>date_avg_item_cnt_lag_1</th>\n",
              "      <th>date_item_avg_item_cnt_lag_1</th>\n",
              "      <th>date_item_avg_item_cnt_lag_2</th>\n",
              "      <th>date_item_avg_item_cnt_lag_3</th>\n",
              "      <th>date_item_avg_item_cnt_lag_6</th>\n",
              "      <th>date_item_avg_item_cnt_lag_12</th>\n",
              "      <th>date_shop_avg_item_cnt_lag_1</th>\n",
              "      <th>date_shop_avg_item_cnt_lag_2</th>\n",
              "      <th>date_shop_avg_item_cnt_lag_3</th>\n",
              "      <th>date_shop_avg_item_cnt_lag_6</th>\n",
              "      <th>date_shop_avg_item_cnt_lag_12</th>\n",
              "      <th>date_cat_avg_item_cnt_lag_1</th>\n",
              "      <th>date_shop_cat_avg_item_cnt_lag_1</th>\n",
              "      <th>date_shop_type_avg_item_cnt_lag_1</th>\n",
              "      <th>date_shop_subtype_avg_item_cnt_lag_1</th>\n",
              "      <th>date_city_avg_item_cnt_lag_1</th>\n",
              "      <th>date_item_city_avg_item_cnt_lag_1</th>\n",
              "      <th>date_type_avg_item_cnt_lag_1</th>\n",
              "      <th>date_subtype_avg_item_cnt_lag_1</th>\n",
              "      <th>date_item_avg_item_price_x</th>\n",
              "      <th>date_item_avg_item_price_y</th>\n",
              "      <th>item_avg_item_price</th>\n",
              "      <th>date_item_avg_item_price</th>\n",
              "      <th>date_item_avg_item_price_lag_1</th>\n",
              "      <th>date_item_avg_item_price_lag_2</th>\n",
              "      <th>date_item_avg_item_price_lag_3</th>\n",
              "      <th>date_item_avg_item_price_lag_4</th>\n",
              "      <th>date_item_avg_item_price_lag_5</th>\n",
              "      <th>date_item_avg_item_price_lag_6</th>\n",
              "      <th>delta_price_lag_1</th>\n",
              "      <th>delta_price_lag_2</th>\n",
              "      <th>delta_price_lag_3</th>\n",
              "      <th>delta_price_lag_4</th>\n",
              "      <th>delta_price_lag_5</th>\n",
              "      <th>delta_price_lag_6</th>\n",
              "    </tr>\n",
              "  </thead>\n",
              "  <tbody>\n",
              "    <tr>\n",
              "      <th>0</th>\n",
              "      <td>0</td>\n",
              "      <td>2</td>\n",
              "      <td>19</td>\n",
              "      <td>0.0</td>\n",
              "      <td>0</td>\n",
              "      <td>40</td>\n",
              "      <td>11</td>\n",
              "      <td>4</td>\n",
              "      <td>NaN</td>\n",
              "      <td>NaN</td>\n",
              "      <td>NaN</td>\n",
              "      <td>NaN</td>\n",
              "      <td>NaN</td>\n",
              "      <td>NaN</td>\n",
              "      <td>NaN</td>\n",
              "      <td>NaN</td>\n",
              "      <td>NaN</td>\n",
              "      <td>NaN</td>\n",
              "      <td>NaN</td>\n",
              "      <td>NaN</td>\n",
              "      <td>NaN</td>\n",
              "      <td>NaN</td>\n",
              "      <td>NaN</td>\n",
              "      <td>NaN</td>\n",
              "      <td>NaN</td>\n",
              "      <td>NaN</td>\n",
              "      <td>NaN</td>\n",
              "      <td>NaN</td>\n",
              "      <td>NaN</td>\n",
              "      <td>NaN</td>\n",
              "      <td>NaN</td>\n",
              "      <td>NaN</td>\n",
              "      <td>28.000</td>\n",
              "      <td>28.000000</td>\n",
              "      <td>28.000</td>\n",
              "      <td>28.0</td>\n",
              "      <td>NaN</td>\n",
              "      <td>NaN</td>\n",
              "      <td>NaN</td>\n",
              "      <td>NaN</td>\n",
              "      <td>NaN</td>\n",
              "      <td>NaN</td>\n",
              "      <td>NaN</td>\n",
              "      <td>NaN</td>\n",
              "      <td>NaN</td>\n",
              "      <td>NaN</td>\n",
              "      <td>NaN</td>\n",
              "      <td>NaN</td>\n",
              "    </tr>\n",
              "    <tr>\n",
              "      <th>1</th>\n",
              "      <td>0</td>\n",
              "      <td>2</td>\n",
              "      <td>27</td>\n",
              "      <td>1.0</td>\n",
              "      <td>0</td>\n",
              "      <td>19</td>\n",
              "      <td>5</td>\n",
              "      <td>10</td>\n",
              "      <td>NaN</td>\n",
              "      <td>NaN</td>\n",
              "      <td>NaN</td>\n",
              "      <td>NaN</td>\n",
              "      <td>NaN</td>\n",
              "      <td>NaN</td>\n",
              "      <td>NaN</td>\n",
              "      <td>NaN</td>\n",
              "      <td>NaN</td>\n",
              "      <td>NaN</td>\n",
              "      <td>NaN</td>\n",
              "      <td>NaN</td>\n",
              "      <td>NaN</td>\n",
              "      <td>NaN</td>\n",
              "      <td>NaN</td>\n",
              "      <td>NaN</td>\n",
              "      <td>NaN</td>\n",
              "      <td>NaN</td>\n",
              "      <td>NaN</td>\n",
              "      <td>NaN</td>\n",
              "      <td>NaN</td>\n",
              "      <td>NaN</td>\n",
              "      <td>NaN</td>\n",
              "      <td>NaN</td>\n",
              "      <td>1461.000</td>\n",
              "      <td>2325.000000</td>\n",
              "      <td>1461.000</td>\n",
              "      <td>2324.0</td>\n",
              "      <td>NaN</td>\n",
              "      <td>NaN</td>\n",
              "      <td>NaN</td>\n",
              "      <td>NaN</td>\n",
              "      <td>NaN</td>\n",
              "      <td>NaN</td>\n",
              "      <td>NaN</td>\n",
              "      <td>NaN</td>\n",
              "      <td>NaN</td>\n",
              "      <td>NaN</td>\n",
              "      <td>NaN</td>\n",
              "      <td>NaN</td>\n",
              "    </tr>\n",
              "    <tr>\n",
              "      <th>2</th>\n",
              "      <td>0</td>\n",
              "      <td>2</td>\n",
              "      <td>28</td>\n",
              "      <td>0.0</td>\n",
              "      <td>0</td>\n",
              "      <td>30</td>\n",
              "      <td>8</td>\n",
              "      <td>55</td>\n",
              "      <td>NaN</td>\n",
              "      <td>NaN</td>\n",
              "      <td>NaN</td>\n",
              "      <td>NaN</td>\n",
              "      <td>NaN</td>\n",
              "      <td>NaN</td>\n",
              "      <td>NaN</td>\n",
              "      <td>NaN</td>\n",
              "      <td>NaN</td>\n",
              "      <td>NaN</td>\n",
              "      <td>NaN</td>\n",
              "      <td>NaN</td>\n",
              "      <td>NaN</td>\n",
              "      <td>NaN</td>\n",
              "      <td>NaN</td>\n",
              "      <td>NaN</td>\n",
              "      <td>NaN</td>\n",
              "      <td>NaN</td>\n",
              "      <td>NaN</td>\n",
              "      <td>NaN</td>\n",
              "      <td>NaN</td>\n",
              "      <td>NaN</td>\n",
              "      <td>NaN</td>\n",
              "      <td>NaN</td>\n",
              "      <td>310.000</td>\n",
              "      <td>549.000000</td>\n",
              "      <td>310.000</td>\n",
              "      <td>549.0</td>\n",
              "      <td>NaN</td>\n",
              "      <td>NaN</td>\n",
              "      <td>NaN</td>\n",
              "      <td>NaN</td>\n",
              "      <td>NaN</td>\n",
              "      <td>NaN</td>\n",
              "      <td>NaN</td>\n",
              "      <td>NaN</td>\n",
              "      <td>NaN</td>\n",
              "      <td>NaN</td>\n",
              "      <td>NaN</td>\n",
              "      <td>NaN</td>\n",
              "    </tr>\n",
              "    <tr>\n",
              "      <th>3</th>\n",
              "      <td>0</td>\n",
              "      <td>2</td>\n",
              "      <td>29</td>\n",
              "      <td>0.0</td>\n",
              "      <td>0</td>\n",
              "      <td>23</td>\n",
              "      <td>5</td>\n",
              "      <td>16</td>\n",
              "      <td>NaN</td>\n",
              "      <td>NaN</td>\n",
              "      <td>NaN</td>\n",
              "      <td>NaN</td>\n",
              "      <td>NaN</td>\n",
              "      <td>NaN</td>\n",
              "      <td>NaN</td>\n",
              "      <td>NaN</td>\n",
              "      <td>NaN</td>\n",
              "      <td>NaN</td>\n",
              "      <td>NaN</td>\n",
              "      <td>NaN</td>\n",
              "      <td>NaN</td>\n",
              "      <td>NaN</td>\n",
              "      <td>NaN</td>\n",
              "      <td>NaN</td>\n",
              "      <td>NaN</td>\n",
              "      <td>NaN</td>\n",
              "      <td>NaN</td>\n",
              "      <td>NaN</td>\n",
              "      <td>NaN</td>\n",
              "      <td>NaN</td>\n",
              "      <td>NaN</td>\n",
              "      <td>NaN</td>\n",
              "      <td>1759.000</td>\n",
              "      <td>2397.500000</td>\n",
              "      <td>1759.000</td>\n",
              "      <td>2398.0</td>\n",
              "      <td>NaN</td>\n",
              "      <td>NaN</td>\n",
              "      <td>NaN</td>\n",
              "      <td>NaN</td>\n",
              "      <td>NaN</td>\n",
              "      <td>NaN</td>\n",
              "      <td>NaN</td>\n",
              "      <td>NaN</td>\n",
              "      <td>NaN</td>\n",
              "      <td>NaN</td>\n",
              "      <td>NaN</td>\n",
              "      <td>NaN</td>\n",
              "    </tr>\n",
              "    <tr>\n",
              "      <th>4</th>\n",
              "      <td>0</td>\n",
              "      <td>2</td>\n",
              "      <td>32</td>\n",
              "      <td>0.0</td>\n",
              "      <td>0</td>\n",
              "      <td>40</td>\n",
              "      <td>11</td>\n",
              "      <td>4</td>\n",
              "      <td>NaN</td>\n",
              "      <td>NaN</td>\n",
              "      <td>NaN</td>\n",
              "      <td>NaN</td>\n",
              "      <td>NaN</td>\n",
              "      <td>NaN</td>\n",
              "      <td>NaN</td>\n",
              "      <td>NaN</td>\n",
              "      <td>NaN</td>\n",
              "      <td>NaN</td>\n",
              "      <td>NaN</td>\n",
              "      <td>NaN</td>\n",
              "      <td>NaN</td>\n",
              "      <td>NaN</td>\n",
              "      <td>NaN</td>\n",
              "      <td>NaN</td>\n",
              "      <td>NaN</td>\n",
              "      <td>NaN</td>\n",
              "      <td>NaN</td>\n",
              "      <td>NaN</td>\n",
              "      <td>NaN</td>\n",
              "      <td>NaN</td>\n",
              "      <td>NaN</td>\n",
              "      <td>NaN</td>\n",
              "      <td>249.625</td>\n",
              "      <td>338.110349</td>\n",
              "      <td>249.625</td>\n",
              "      <td>338.0</td>\n",
              "      <td>NaN</td>\n",
              "      <td>NaN</td>\n",
              "      <td>NaN</td>\n",
              "      <td>NaN</td>\n",
              "      <td>NaN</td>\n",
              "      <td>NaN</td>\n",
              "      <td>NaN</td>\n",
              "      <td>NaN</td>\n",
              "      <td>NaN</td>\n",
              "      <td>NaN</td>\n",
              "      <td>NaN</td>\n",
              "      <td>NaN</td>\n",
              "    </tr>\n",
              "    <tr>\n",
              "      <th>...</th>\n",
              "      <td>...</td>\n",
              "      <td>...</td>\n",
              "      <td>...</td>\n",
              "      <td>...</td>\n",
              "      <td>...</td>\n",
              "      <td>...</td>\n",
              "      <td>...</td>\n",
              "      <td>...</td>\n",
              "      <td>...</td>\n",
              "      <td>...</td>\n",
              "      <td>...</td>\n",
              "      <td>...</td>\n",
              "      <td>...</td>\n",
              "      <td>...</td>\n",
              "      <td>...</td>\n",
              "      <td>...</td>\n",
              "      <td>...</td>\n",
              "      <td>...</td>\n",
              "      <td>...</td>\n",
              "      <td>...</td>\n",
              "      <td>...</td>\n",
              "      <td>...</td>\n",
              "      <td>...</td>\n",
              "      <td>...</td>\n",
              "      <td>...</td>\n",
              "      <td>...</td>\n",
              "      <td>...</td>\n",
              "      <td>...</td>\n",
              "      <td>...</td>\n",
              "      <td>...</td>\n",
              "      <td>...</td>\n",
              "      <td>...</td>\n",
              "      <td>...</td>\n",
              "      <td>...</td>\n",
              "      <td>...</td>\n",
              "      <td>...</td>\n",
              "      <td>...</td>\n",
              "      <td>...</td>\n",
              "      <td>...</td>\n",
              "      <td>...</td>\n",
              "      <td>...</td>\n",
              "      <td>...</td>\n",
              "      <td>...</td>\n",
              "      <td>...</td>\n",
              "      <td>...</td>\n",
              "      <td>...</td>\n",
              "      <td>...</td>\n",
              "      <td>...</td>\n",
              "    </tr>\n",
              "    <tr>\n",
              "      <th>11127999</th>\n",
              "      <td>34</td>\n",
              "      <td>45</td>\n",
              "      <td>18454</td>\n",
              "      <td>0.0</td>\n",
              "      <td>20</td>\n",
              "      <td>55</td>\n",
              "      <td>13</td>\n",
              "      <td>2</td>\n",
              "      <td>1.0</td>\n",
              "      <td>0.0</td>\n",
              "      <td>0.0</td>\n",
              "      <td>0.0</td>\n",
              "      <td>NaN</td>\n",
              "      <td>0.258545</td>\n",
              "      <td>0.045441</td>\n",
              "      <td>0.023254</td>\n",
              "      <td>0.071411</td>\n",
              "      <td>0.590820</td>\n",
              "      <td>NaN</td>\n",
              "      <td>0.126709</td>\n",
              "      <td>0.128784</td>\n",
              "      <td>0.139038</td>\n",
              "      <td>0.137573</td>\n",
              "      <td>NaN</td>\n",
              "      <td>0.196899</td>\n",
              "      <td>0.126831</td>\n",
              "      <td>0.089294</td>\n",
              "      <td>0.126831</td>\n",
              "      <td>0.135376</td>\n",
              "      <td>0.5</td>\n",
              "      <td>0.146973</td>\n",
              "      <td>0.196899</td>\n",
              "      <td>188.625</td>\n",
              "      <td>NaN</td>\n",
              "      <td>188.625</td>\n",
              "      <td>NaN</td>\n",
              "      <td>99.000</td>\n",
              "      <td>99.0</td>\n",
              "      <td>99.000</td>\n",
              "      <td>99.0</td>\n",
              "      <td>98.9375</td>\n",
              "      <td>199.000</td>\n",
              "      <td>-0.475098</td>\n",
              "      <td>-0.475098</td>\n",
              "      <td>-0.475098</td>\n",
              "      <td>-0.475098</td>\n",
              "      <td>-0.475586</td>\n",
              "      <td>0.054993</td>\n",
              "    </tr>\n",
              "    <tr>\n",
              "      <th>11128000</th>\n",
              "      <td>34</td>\n",
              "      <td>45</td>\n",
              "      <td>16188</td>\n",
              "      <td>0.0</td>\n",
              "      <td>20</td>\n",
              "      <td>64</td>\n",
              "      <td>14</td>\n",
              "      <td>42</td>\n",
              "      <td>0.0</td>\n",
              "      <td>0.0</td>\n",
              "      <td>NaN</td>\n",
              "      <td>NaN</td>\n",
              "      <td>NaN</td>\n",
              "      <td>0.258545</td>\n",
              "      <td>0.022720</td>\n",
              "      <td>0.069763</td>\n",
              "      <td>NaN</td>\n",
              "      <td>NaN</td>\n",
              "      <td>NaN</td>\n",
              "      <td>0.126709</td>\n",
              "      <td>0.128784</td>\n",
              "      <td>NaN</td>\n",
              "      <td>NaN</td>\n",
              "      <td>NaN</td>\n",
              "      <td>0.155884</td>\n",
              "      <td>0.094482</td>\n",
              "      <td>0.106201</td>\n",
              "      <td>0.094482</td>\n",
              "      <td>0.135376</td>\n",
              "      <td>0.0</td>\n",
              "      <td>0.237305</td>\n",
              "      <td>0.155884</td>\n",
              "      <td>1257.000</td>\n",
              "      <td>NaN</td>\n",
              "      <td>1257.000</td>\n",
              "      <td>NaN</td>\n",
              "      <td>1359.000</td>\n",
              "      <td>1223.0</td>\n",
              "      <td>NaN</td>\n",
              "      <td>NaN</td>\n",
              "      <td>NaN</td>\n",
              "      <td>NaN</td>\n",
              "      <td>0.081116</td>\n",
              "      <td>-0.027054</td>\n",
              "      <td>NaN</td>\n",
              "      <td>NaN</td>\n",
              "      <td>NaN</td>\n",
              "      <td>NaN</td>\n",
              "    </tr>\n",
              "    <tr>\n",
              "      <th>11128001</th>\n",
              "      <td>34</td>\n",
              "      <td>45</td>\n",
              "      <td>15757</td>\n",
              "      <td>0.0</td>\n",
              "      <td>20</td>\n",
              "      <td>55</td>\n",
              "      <td>13</td>\n",
              "      <td>2</td>\n",
              "      <td>0.0</td>\n",
              "      <td>0.0</td>\n",
              "      <td>0.0</td>\n",
              "      <td>0.0</td>\n",
              "      <td>0.0</td>\n",
              "      <td>0.258545</td>\n",
              "      <td>0.113647</td>\n",
              "      <td>0.069763</td>\n",
              "      <td>0.095215</td>\n",
              "      <td>0.250000</td>\n",
              "      <td>0.180054</td>\n",
              "      <td>0.126709</td>\n",
              "      <td>0.128784</td>\n",
              "      <td>0.139038</td>\n",
              "      <td>0.137573</td>\n",
              "      <td>0.181274</td>\n",
              "      <td>0.196899</td>\n",
              "      <td>0.126831</td>\n",
              "      <td>0.089294</td>\n",
              "      <td>0.126831</td>\n",
              "      <td>0.135376</td>\n",
              "      <td>0.0</td>\n",
              "      <td>0.146973</td>\n",
              "      <td>0.196899</td>\n",
              "      <td>198.125</td>\n",
              "      <td>NaN</td>\n",
              "      <td>198.125</td>\n",
              "      <td>NaN</td>\n",
              "      <td>229.000</td>\n",
              "      <td>229.0</td>\n",
              "      <td>229.000</td>\n",
              "      <td>229.0</td>\n",
              "      <td>229.0000</td>\n",
              "      <td>208.125</td>\n",
              "      <td>0.155884</td>\n",
              "      <td>0.155884</td>\n",
              "      <td>0.155884</td>\n",
              "      <td>0.155884</td>\n",
              "      <td>0.155884</td>\n",
              "      <td>0.050476</td>\n",
              "    </tr>\n",
              "    <tr>\n",
              "      <th>11128002</th>\n",
              "      <td>34</td>\n",
              "      <td>45</td>\n",
              "      <td>19648</td>\n",
              "      <td>0.0</td>\n",
              "      <td>20</td>\n",
              "      <td>40</td>\n",
              "      <td>11</td>\n",
              "      <td>4</td>\n",
              "      <td>0.0</td>\n",
              "      <td>0.0</td>\n",
              "      <td>0.0</td>\n",
              "      <td>0.0</td>\n",
              "      <td>NaN</td>\n",
              "      <td>0.258545</td>\n",
              "      <td>0.045441</td>\n",
              "      <td>0.069763</td>\n",
              "      <td>0.166626</td>\n",
              "      <td>0.090881</td>\n",
              "      <td>NaN</td>\n",
              "      <td>0.126709</td>\n",
              "      <td>0.128784</td>\n",
              "      <td>0.139038</td>\n",
              "      <td>0.137573</td>\n",
              "      <td>NaN</td>\n",
              "      <td>0.220825</td>\n",
              "      <td>0.083740</td>\n",
              "      <td>0.097046</td>\n",
              "      <td>0.083740</td>\n",
              "      <td>0.135376</td>\n",
              "      <td>0.0</td>\n",
              "      <td>0.224243</td>\n",
              "      <td>0.220825</td>\n",
              "      <td>98.125</td>\n",
              "      <td>NaN</td>\n",
              "      <td>98.125</td>\n",
              "      <td>NaN</td>\n",
              "      <td>89.125</td>\n",
              "      <td>99.0</td>\n",
              "      <td>94.875</td>\n",
              "      <td>99.0</td>\n",
              "      <td>99.0000</td>\n",
              "      <td>99.000</td>\n",
              "      <td>-0.091736</td>\n",
              "      <td>0.008919</td>\n",
              "      <td>-0.033112</td>\n",
              "      <td>0.008919</td>\n",
              "      <td>0.008919</td>\n",
              "      <td>0.008919</td>\n",
              "    </tr>\n",
              "    <tr>\n",
              "      <th>11128003</th>\n",
              "      <td>34</td>\n",
              "      <td>45</td>\n",
              "      <td>969</td>\n",
              "      <td>0.0</td>\n",
              "      <td>20</td>\n",
              "      <td>37</td>\n",
              "      <td>11</td>\n",
              "      <td>1</td>\n",
              "      <td>0.0</td>\n",
              "      <td>0.0</td>\n",
              "      <td>0.0</td>\n",
              "      <td>0.0</td>\n",
              "      <td>0.0</td>\n",
              "      <td>0.258545</td>\n",
              "      <td>0.068176</td>\n",
              "      <td>0.116272</td>\n",
              "      <td>0.023804</td>\n",
              "      <td>0.068176</td>\n",
              "      <td>0.119995</td>\n",
              "      <td>0.126709</td>\n",
              "      <td>0.128784</td>\n",
              "      <td>0.139038</td>\n",
              "      <td>0.137573</td>\n",
              "      <td>0.181274</td>\n",
              "      <td>0.256836</td>\n",
              "      <td>0.128174</td>\n",
              "      <td>0.097046</td>\n",
              "      <td>0.126343</td>\n",
              "      <td>0.135376</td>\n",
              "      <td>0.5</td>\n",
              "      <td>0.224243</td>\n",
              "      <td>0.240967</td>\n",
              "      <td>502.250</td>\n",
              "      <td>NaN</td>\n",
              "      <td>502.250</td>\n",
              "      <td>NaN</td>\n",
              "      <td>198.000</td>\n",
              "      <td>198.0</td>\n",
              "      <td>198.000</td>\n",
              "      <td>198.0</td>\n",
              "      <td>242.0000</td>\n",
              "      <td>248.000</td>\n",
              "      <td>-0.605957</td>\n",
              "      <td>-0.605957</td>\n",
              "      <td>-0.605957</td>\n",
              "      <td>-0.605957</td>\n",
              "      <td>-0.518066</td>\n",
              "      <td>-0.506348</td>\n",
              "    </tr>\n",
              "  </tbody>\n",
              "</table>\n",
              "<p>11128004 rows × 48 columns</p>\n",
              "</div>"
            ],
            "text/plain": [
              "          date_block_num  shop_id  item_id  item_cnt_month  city_code  \\\n",
              "0                      0        2       19             0.0          0   \n",
              "1                      0        2       27             1.0          0   \n",
              "2                      0        2       28             0.0          0   \n",
              "3                      0        2       29             0.0          0   \n",
              "4                      0        2       32             0.0          0   \n",
              "...                  ...      ...      ...             ...        ...   \n",
              "11127999              34       45    18454             0.0         20   \n",
              "11128000              34       45    16188             0.0         20   \n",
              "11128001              34       45    15757             0.0         20   \n",
              "11128002              34       45    19648             0.0         20   \n",
              "11128003              34       45      969             0.0         20   \n",
              "\n",
              "          item_category_id  type_code  subtype_code  item_cnt_month_lag_1  \\\n",
              "0                       40         11             4                   NaN   \n",
              "1                       19          5            10                   NaN   \n",
              "2                       30          8            55                   NaN   \n",
              "3                       23          5            16                   NaN   \n",
              "4                       40         11             4                   NaN   \n",
              "...                    ...        ...           ...                   ...   \n",
              "11127999                55         13             2                   1.0   \n",
              "11128000                64         14            42                   0.0   \n",
              "11128001                55         13             2                   0.0   \n",
              "11128002                40         11             4                   0.0   \n",
              "11128003                37         11             1                   0.0   \n",
              "\n",
              "          item_cnt_month_lag_2  item_cnt_month_lag_3  item_cnt_month_lag_6  \\\n",
              "0                          NaN                   NaN                   NaN   \n",
              "1                          NaN                   NaN                   NaN   \n",
              "2                          NaN                   NaN                   NaN   \n",
              "3                          NaN                   NaN                   NaN   \n",
              "4                          NaN                   NaN                   NaN   \n",
              "...                        ...                   ...                   ...   \n",
              "11127999                   0.0                   0.0                   0.0   \n",
              "11128000                   0.0                   NaN                   NaN   \n",
              "11128001                   0.0                   0.0                   0.0   \n",
              "11128002                   0.0                   0.0                   0.0   \n",
              "11128003                   0.0                   0.0                   0.0   \n",
              "\n",
              "          item_cnt_month_lag_12  date_avg_item_cnt_lag_1  \\\n",
              "0                           NaN                      NaN   \n",
              "1                           NaN                      NaN   \n",
              "2                           NaN                      NaN   \n",
              "3                           NaN                      NaN   \n",
              "4                           NaN                      NaN   \n",
              "...                         ...                      ...   \n",
              "11127999                    NaN                 0.258545   \n",
              "11128000                    NaN                 0.258545   \n",
              "11128001                    0.0                 0.258545   \n",
              "11128002                    NaN                 0.258545   \n",
              "11128003                    0.0                 0.258545   \n",
              "\n",
              "          date_item_avg_item_cnt_lag_1  date_item_avg_item_cnt_lag_2  \\\n",
              "0                                  NaN                           NaN   \n",
              "1                                  NaN                           NaN   \n",
              "2                                  NaN                           NaN   \n",
              "3                                  NaN                           NaN   \n",
              "4                                  NaN                           NaN   \n",
              "...                                ...                           ...   \n",
              "11127999                      0.045441                      0.023254   \n",
              "11128000                      0.022720                      0.069763   \n",
              "11128001                      0.113647                      0.069763   \n",
              "11128002                      0.045441                      0.069763   \n",
              "11128003                      0.068176                      0.116272   \n",
              "\n",
              "          date_item_avg_item_cnt_lag_3  date_item_avg_item_cnt_lag_6  \\\n",
              "0                                  NaN                           NaN   \n",
              "1                                  NaN                           NaN   \n",
              "2                                  NaN                           NaN   \n",
              "3                                  NaN                           NaN   \n",
              "4                                  NaN                           NaN   \n",
              "...                                ...                           ...   \n",
              "11127999                      0.071411                      0.590820   \n",
              "11128000                           NaN                           NaN   \n",
              "11128001                      0.095215                      0.250000   \n",
              "11128002                      0.166626                      0.090881   \n",
              "11128003                      0.023804                      0.068176   \n",
              "\n",
              "          date_item_avg_item_cnt_lag_12  date_shop_avg_item_cnt_lag_1  \\\n",
              "0                                   NaN                           NaN   \n",
              "1                                   NaN                           NaN   \n",
              "2                                   NaN                           NaN   \n",
              "3                                   NaN                           NaN   \n",
              "4                                   NaN                           NaN   \n",
              "...                                 ...                           ...   \n",
              "11127999                            NaN                      0.126709   \n",
              "11128000                            NaN                      0.126709   \n",
              "11128001                       0.180054                      0.126709   \n",
              "11128002                            NaN                      0.126709   \n",
              "11128003                       0.119995                      0.126709   \n",
              "\n",
              "          date_shop_avg_item_cnt_lag_2  date_shop_avg_item_cnt_lag_3  \\\n",
              "0                                  NaN                           NaN   \n",
              "1                                  NaN                           NaN   \n",
              "2                                  NaN                           NaN   \n",
              "3                                  NaN                           NaN   \n",
              "4                                  NaN                           NaN   \n",
              "...                                ...                           ...   \n",
              "11127999                      0.128784                      0.139038   \n",
              "11128000                      0.128784                           NaN   \n",
              "11128001                      0.128784                      0.139038   \n",
              "11128002                      0.128784                      0.139038   \n",
              "11128003                      0.128784                      0.139038   \n",
              "\n",
              "          date_shop_avg_item_cnt_lag_6  date_shop_avg_item_cnt_lag_12  \\\n",
              "0                                  NaN                            NaN   \n",
              "1                                  NaN                            NaN   \n",
              "2                                  NaN                            NaN   \n",
              "3                                  NaN                            NaN   \n",
              "4                                  NaN                            NaN   \n",
              "...                                ...                            ...   \n",
              "11127999                      0.137573                            NaN   \n",
              "11128000                           NaN                            NaN   \n",
              "11128001                      0.137573                       0.181274   \n",
              "11128002                      0.137573                            NaN   \n",
              "11128003                      0.137573                       0.181274   \n",
              "\n",
              "          date_cat_avg_item_cnt_lag_1  date_shop_cat_avg_item_cnt_lag_1  \\\n",
              "0                                 NaN                               NaN   \n",
              "1                                 NaN                               NaN   \n",
              "2                                 NaN                               NaN   \n",
              "3                                 NaN                               NaN   \n",
              "4                                 NaN                               NaN   \n",
              "...                               ...                               ...   \n",
              "11127999                     0.196899                          0.126831   \n",
              "11128000                     0.155884                          0.094482   \n",
              "11128001                     0.196899                          0.126831   \n",
              "11128002                     0.220825                          0.083740   \n",
              "11128003                     0.256836                          0.128174   \n",
              "\n",
              "          date_shop_type_avg_item_cnt_lag_1  \\\n",
              "0                                       NaN   \n",
              "1                                       NaN   \n",
              "2                                       NaN   \n",
              "3                                       NaN   \n",
              "4                                       NaN   \n",
              "...                                     ...   \n",
              "11127999                           0.089294   \n",
              "11128000                           0.106201   \n",
              "11128001                           0.089294   \n",
              "11128002                           0.097046   \n",
              "11128003                           0.097046   \n",
              "\n",
              "          date_shop_subtype_avg_item_cnt_lag_1  date_city_avg_item_cnt_lag_1  \\\n",
              "0                                          NaN                           NaN   \n",
              "1                                          NaN                           NaN   \n",
              "2                                          NaN                           NaN   \n",
              "3                                          NaN                           NaN   \n",
              "4                                          NaN                           NaN   \n",
              "...                                        ...                           ...   \n",
              "11127999                              0.126831                      0.135376   \n",
              "11128000                              0.094482                      0.135376   \n",
              "11128001                              0.126831                      0.135376   \n",
              "11128002                              0.083740                      0.135376   \n",
              "11128003                              0.126343                      0.135376   \n",
              "\n",
              "          date_item_city_avg_item_cnt_lag_1  date_type_avg_item_cnt_lag_1  \\\n",
              "0                                       NaN                           NaN   \n",
              "1                                       NaN                           NaN   \n",
              "2                                       NaN                           NaN   \n",
              "3                                       NaN                           NaN   \n",
              "4                                       NaN                           NaN   \n",
              "...                                     ...                           ...   \n",
              "11127999                                0.5                      0.146973   \n",
              "11128000                                0.0                      0.237305   \n",
              "11128001                                0.0                      0.146973   \n",
              "11128002                                0.0                      0.224243   \n",
              "11128003                                0.5                      0.224243   \n",
              "\n",
              "          date_subtype_avg_item_cnt_lag_1  date_item_avg_item_price_x  \\\n",
              "0                                     NaN                      28.000   \n",
              "1                                     NaN                    1461.000   \n",
              "2                                     NaN                     310.000   \n",
              "3                                     NaN                    1759.000   \n",
              "4                                     NaN                     249.625   \n",
              "...                                   ...                         ...   \n",
              "11127999                         0.196899                     188.625   \n",
              "11128000                         0.155884                    1257.000   \n",
              "11128001                         0.196899                     198.125   \n",
              "11128002                         0.220825                      98.125   \n",
              "11128003                         0.240967                     502.250   \n",
              "\n",
              "          date_item_avg_item_price_y  item_avg_item_price  \\\n",
              "0                          28.000000               28.000   \n",
              "1                        2325.000000             1461.000   \n",
              "2                         549.000000              310.000   \n",
              "3                        2397.500000             1759.000   \n",
              "4                         338.110349              249.625   \n",
              "...                              ...                  ...   \n",
              "11127999                         NaN              188.625   \n",
              "11128000                         NaN             1257.000   \n",
              "11128001                         NaN              198.125   \n",
              "11128002                         NaN               98.125   \n",
              "11128003                         NaN              502.250   \n",
              "\n",
              "          date_item_avg_item_price  date_item_avg_item_price_lag_1  \\\n",
              "0                             28.0                             NaN   \n",
              "1                           2324.0                             NaN   \n",
              "2                            549.0                             NaN   \n",
              "3                           2398.0                             NaN   \n",
              "4                            338.0                             NaN   \n",
              "...                            ...                             ...   \n",
              "11127999                       NaN                          99.000   \n",
              "11128000                       NaN                        1359.000   \n",
              "11128001                       NaN                         229.000   \n",
              "11128002                       NaN                          89.125   \n",
              "11128003                       NaN                         198.000   \n",
              "\n",
              "          date_item_avg_item_price_lag_2  date_item_avg_item_price_lag_3  \\\n",
              "0                                    NaN                             NaN   \n",
              "1                                    NaN                             NaN   \n",
              "2                                    NaN                             NaN   \n",
              "3                                    NaN                             NaN   \n",
              "4                                    NaN                             NaN   \n",
              "...                                  ...                             ...   \n",
              "11127999                            99.0                          99.000   \n",
              "11128000                          1223.0                             NaN   \n",
              "11128001                           229.0                         229.000   \n",
              "11128002                            99.0                          94.875   \n",
              "11128003                           198.0                         198.000   \n",
              "\n",
              "          date_item_avg_item_price_lag_4  date_item_avg_item_price_lag_5  \\\n",
              "0                                    NaN                             NaN   \n",
              "1                                    NaN                             NaN   \n",
              "2                                    NaN                             NaN   \n",
              "3                                    NaN                             NaN   \n",
              "4                                    NaN                             NaN   \n",
              "...                                  ...                             ...   \n",
              "11127999                            99.0                         98.9375   \n",
              "11128000                             NaN                             NaN   \n",
              "11128001                           229.0                        229.0000   \n",
              "11128002                            99.0                         99.0000   \n",
              "11128003                           198.0                        242.0000   \n",
              "\n",
              "          date_item_avg_item_price_lag_6  delta_price_lag_1  \\\n",
              "0                                    NaN                NaN   \n",
              "1                                    NaN                NaN   \n",
              "2                                    NaN                NaN   \n",
              "3                                    NaN                NaN   \n",
              "4                                    NaN                NaN   \n",
              "...                                  ...                ...   \n",
              "11127999                         199.000          -0.475098   \n",
              "11128000                             NaN           0.081116   \n",
              "11128001                         208.125           0.155884   \n",
              "11128002                          99.000          -0.091736   \n",
              "11128003                         248.000          -0.605957   \n",
              "\n",
              "          delta_price_lag_2  delta_price_lag_3  delta_price_lag_4  \\\n",
              "0                       NaN                NaN                NaN   \n",
              "1                       NaN                NaN                NaN   \n",
              "2                       NaN                NaN                NaN   \n",
              "3                       NaN                NaN                NaN   \n",
              "4                       NaN                NaN                NaN   \n",
              "...                     ...                ...                ...   \n",
              "11127999          -0.475098          -0.475098          -0.475098   \n",
              "11128000          -0.027054                NaN                NaN   \n",
              "11128001           0.155884           0.155884           0.155884   \n",
              "11128002           0.008919          -0.033112           0.008919   \n",
              "11128003          -0.605957          -0.605957          -0.605957   \n",
              "\n",
              "          delta_price_lag_5  delta_price_lag_6  \n",
              "0                       NaN                NaN  \n",
              "1                       NaN                NaN  \n",
              "2                       NaN                NaN  \n",
              "3                       NaN                NaN  \n",
              "4                       NaN                NaN  \n",
              "...                     ...                ...  \n",
              "11127999          -0.475586           0.054993  \n",
              "11128000                NaN                NaN  \n",
              "11128001           0.155884           0.050476  \n",
              "11128002           0.008919           0.008919  \n",
              "11128003          -0.518066          -0.506348  \n",
              "\n",
              "[11128004 rows x 48 columns]"
            ]
          },
          "metadata": {
            "tags": []
          },
          "execution_count": 48
        }
      ]
    },
    {
      "cell_type": "code",
      "metadata": {
        "id": "8yZXgAOA53oL",
        "colab_type": "code",
        "colab": {
          "base_uri": "https://localhost:8080/",
          "height": 379
        },
        "outputId": "3877c84c-bd6d-4815-eb7f-e52c6f120846"
      },
      "source": [
        "ts = time.time()\n",
        "group = train.groupby(['item_id']).agg({'item_price': ['mean']})\n",
        "group.columns = ['item_avg_item_price']\n",
        "group.reset_index(inplace=True)\n",
        "\n",
        "\"\"\"\n",
        "matrix = pd.merge(matrix, group, on=['item_id'], how='left')\n",
        "matrix['item_avg_item_price'] = matrix['item_avg_item_price'].astype(np.float16)\n",
        "\n",
        "group = train.groupby(['date_block_num','item_id']).agg({'item_price': ['mean']})\n",
        "group.columns = ['date_item_avg_item_price']\n",
        "group.reset_index(inplace=True)\n",
        "\"\"\"\n",
        "\n",
        "matrix = pd.merge(matrix, group, on=['date_block_num','item_id'], how='left')\n",
        "matrix['date_item_avg_item_price'] = matrix['date_item_avg_item_price'].astype(np.float16)\n",
        "\n",
        "lags = [1,2,3,4,5,6]\n",
        "matrix = lag_feature(matrix, lags, 'date_item_avg_item_price')\n",
        "\n",
        "for i in lags:\n",
        "    matrix['delta_price_lag_'+str(i)] = \\\n",
        "        (matrix['date_item_avg_item_price_lag_'+str(i)] - matrix['item_avg_item_price']) / matrix['item_avg_item_price']\n",
        "\n",
        "def select_trend(row):\n",
        "    for i in lags:\n",
        "        if row['delta_price_lag_'+str(i)]:\n",
        "            return row['delta_price_lag_'+str(i)]\n",
        "    return 0\n",
        "    \n",
        "matrix['delta_price_lag'] = matrix.apply(select_trend, axis=1)\n",
        "matrix['delta_price_lag'] = matrix['delta_price_lag'].astype(np.float16)\n",
        "matrix['delta_price_lag'].fillna(0, inplace=True)\n",
        "\n",
        "# https://stackoverflow.com/questions/31828240/first-non-null-value-per-row-from-a-list-of-pandas-columns/31828559\n",
        "# matrix['price_trend'] = matrix[['delta_price_lag_1','delta_price_lag_2','delta_price_lag_3']].bfill(axis=1).iloc[:, 0]\n",
        "# Invalid dtype for backfill_2d [float16]\n",
        "\n",
        "fetures_to_drop = ['item_avg_item_price', 'date_item_avg_item_price']\n",
        "for i in lags:\n",
        "    fetures_to_drop += ['date_item_avg_item_price_lag_'+str(i)]\n",
        "    fetures_to_drop += ['delta_price_lag_'+str(i)]\n",
        "\n",
        "matrix.drop(fetures_to_drop, axis=1, inplace=True)\n",
        "\n",
        "time.time() - ts"
      ],
      "execution_count": 47,
      "outputs": [
        {
          "output_type": "error",
          "ename": "KeyError",
          "evalue": "ignored",
          "traceback": [
            "\u001b[0;31m---------------------------------------------------------------------------\u001b[0m",
            "\u001b[0;31mKeyError\u001b[0m                                  Traceback (most recent call last)",
            "\u001b[0;32m<ipython-input-47-750efb6a0d71>\u001b[0m in \u001b[0;36m<module>\u001b[0;34m()\u001b[0m\n\u001b[1;32m     13\u001b[0m \"\"\"\n\u001b[1;32m     14\u001b[0m \u001b[0;34m\u001b[0m\u001b[0m\n\u001b[0;32m---> 15\u001b[0;31m \u001b[0mmatrix\u001b[0m \u001b[0;34m=\u001b[0m \u001b[0mpd\u001b[0m\u001b[0;34m.\u001b[0m\u001b[0mmerge\u001b[0m\u001b[0;34m(\u001b[0m\u001b[0mmatrix\u001b[0m\u001b[0;34m,\u001b[0m \u001b[0mgroup\u001b[0m\u001b[0;34m,\u001b[0m \u001b[0mon\u001b[0m\u001b[0;34m=\u001b[0m\u001b[0;34m[\u001b[0m\u001b[0;34m'date_block_num'\u001b[0m\u001b[0;34m,\u001b[0m\u001b[0;34m'item_id'\u001b[0m\u001b[0;34m]\u001b[0m\u001b[0;34m,\u001b[0m \u001b[0mhow\u001b[0m\u001b[0;34m=\u001b[0m\u001b[0;34m'left'\u001b[0m\u001b[0;34m)\u001b[0m\u001b[0;34m\u001b[0m\u001b[0;34m\u001b[0m\u001b[0m\n\u001b[0m\u001b[1;32m     16\u001b[0m \u001b[0mmatrix\u001b[0m\u001b[0;34m[\u001b[0m\u001b[0;34m'date_item_avg_item_price'\u001b[0m\u001b[0;34m]\u001b[0m \u001b[0;34m=\u001b[0m \u001b[0mmatrix\u001b[0m\u001b[0;34m[\u001b[0m\u001b[0;34m'date_item_avg_item_price'\u001b[0m\u001b[0;34m]\u001b[0m\u001b[0;34m.\u001b[0m\u001b[0mastype\u001b[0m\u001b[0;34m(\u001b[0m\u001b[0mnp\u001b[0m\u001b[0;34m.\u001b[0m\u001b[0mfloat16\u001b[0m\u001b[0;34m)\u001b[0m\u001b[0;34m\u001b[0m\u001b[0;34m\u001b[0m\u001b[0m\n\u001b[1;32m     17\u001b[0m \u001b[0;34m\u001b[0m\u001b[0m\n",
            "\u001b[0;32m/usr/local/lib/python3.6/dist-packages/pandas/core/reshape/merge.py\u001b[0m in \u001b[0;36mmerge\u001b[0;34m(left, right, how, on, left_on, right_on, left_index, right_index, sort, suffixes, copy, indicator, validate)\u001b[0m\n\u001b[1;32m     84\u001b[0m         \u001b[0mcopy\u001b[0m\u001b[0;34m=\u001b[0m\u001b[0mcopy\u001b[0m\u001b[0;34m,\u001b[0m\u001b[0;34m\u001b[0m\u001b[0;34m\u001b[0m\u001b[0m\n\u001b[1;32m     85\u001b[0m         \u001b[0mindicator\u001b[0m\u001b[0;34m=\u001b[0m\u001b[0mindicator\u001b[0m\u001b[0;34m,\u001b[0m\u001b[0;34m\u001b[0m\u001b[0;34m\u001b[0m\u001b[0m\n\u001b[0;32m---> 86\u001b[0;31m         \u001b[0mvalidate\u001b[0m\u001b[0;34m=\u001b[0m\u001b[0mvalidate\u001b[0m\u001b[0;34m,\u001b[0m\u001b[0;34m\u001b[0m\u001b[0;34m\u001b[0m\u001b[0m\n\u001b[0m\u001b[1;32m     87\u001b[0m     )\n\u001b[1;32m     88\u001b[0m     \u001b[0;32mreturn\u001b[0m \u001b[0mop\u001b[0m\u001b[0;34m.\u001b[0m\u001b[0mget_result\u001b[0m\u001b[0;34m(\u001b[0m\u001b[0;34m)\u001b[0m\u001b[0;34m\u001b[0m\u001b[0;34m\u001b[0m\u001b[0m\n",
            "\u001b[0;32m/usr/local/lib/python3.6/dist-packages/pandas/core/reshape/merge.py\u001b[0m in \u001b[0;36m__init__\u001b[0;34m(self, left, right, how, on, left_on, right_on, axis, left_index, right_index, sort, suffixes, copy, indicator, validate)\u001b[0m\n\u001b[1;32m    625\u001b[0m             \u001b[0mself\u001b[0m\u001b[0;34m.\u001b[0m\u001b[0mright_join_keys\u001b[0m\u001b[0;34m,\u001b[0m\u001b[0;34m\u001b[0m\u001b[0;34m\u001b[0m\u001b[0m\n\u001b[1;32m    626\u001b[0m             \u001b[0mself\u001b[0m\u001b[0;34m.\u001b[0m\u001b[0mjoin_names\u001b[0m\u001b[0;34m,\u001b[0m\u001b[0;34m\u001b[0m\u001b[0;34m\u001b[0m\u001b[0m\n\u001b[0;32m--> 627\u001b[0;31m         ) = self._get_merge_keys()\n\u001b[0m\u001b[1;32m    628\u001b[0m \u001b[0;34m\u001b[0m\u001b[0m\n\u001b[1;32m    629\u001b[0m         \u001b[0;31m# validate the merge keys dtypes. We may need to coerce\u001b[0m\u001b[0;34m\u001b[0m\u001b[0;34m\u001b[0m\u001b[0;34m\u001b[0m\u001b[0m\n",
            "\u001b[0;32m/usr/local/lib/python3.6/dist-packages/pandas/core/reshape/merge.py\u001b[0m in \u001b[0;36m_get_merge_keys\u001b[0;34m(self)\u001b[0m\n\u001b[1;32m    981\u001b[0m                     \u001b[0;32mif\u001b[0m \u001b[0;32mnot\u001b[0m \u001b[0mis_rkey\u001b[0m\u001b[0;34m(\u001b[0m\u001b[0mrk\u001b[0m\u001b[0;34m)\u001b[0m\u001b[0;34m:\u001b[0m\u001b[0;34m\u001b[0m\u001b[0;34m\u001b[0m\u001b[0m\n\u001b[1;32m    982\u001b[0m                         \u001b[0;32mif\u001b[0m \u001b[0mrk\u001b[0m \u001b[0;32mis\u001b[0m \u001b[0;32mnot\u001b[0m \u001b[0;32mNone\u001b[0m\u001b[0;34m:\u001b[0m\u001b[0;34m\u001b[0m\u001b[0;34m\u001b[0m\u001b[0m\n\u001b[0;32m--> 983\u001b[0;31m                             \u001b[0mright_keys\u001b[0m\u001b[0;34m.\u001b[0m\u001b[0mappend\u001b[0m\u001b[0;34m(\u001b[0m\u001b[0mright\u001b[0m\u001b[0;34m.\u001b[0m\u001b[0m_get_label_or_level_values\u001b[0m\u001b[0;34m(\u001b[0m\u001b[0mrk\u001b[0m\u001b[0;34m)\u001b[0m\u001b[0;34m)\u001b[0m\u001b[0;34m\u001b[0m\u001b[0;34m\u001b[0m\u001b[0m\n\u001b[0m\u001b[1;32m    984\u001b[0m                         \u001b[0;32melse\u001b[0m\u001b[0;34m:\u001b[0m\u001b[0;34m\u001b[0m\u001b[0;34m\u001b[0m\u001b[0m\n\u001b[1;32m    985\u001b[0m                             \u001b[0;31m# work-around for merge_asof(right_index=True)\u001b[0m\u001b[0;34m\u001b[0m\u001b[0;34m\u001b[0m\u001b[0;34m\u001b[0m\u001b[0m\n",
            "\u001b[0;32m/usr/local/lib/python3.6/dist-packages/pandas/core/generic.py\u001b[0m in \u001b[0;36m_get_label_or_level_values\u001b[0;34m(self, key, axis)\u001b[0m\n\u001b[1;32m   1690\u001b[0m             \u001b[0mvalues\u001b[0m \u001b[0;34m=\u001b[0m \u001b[0mself\u001b[0m\u001b[0;34m.\u001b[0m\u001b[0maxes\u001b[0m\u001b[0;34m[\u001b[0m\u001b[0maxis\u001b[0m\u001b[0;34m]\u001b[0m\u001b[0;34m.\u001b[0m\u001b[0mget_level_values\u001b[0m\u001b[0;34m(\u001b[0m\u001b[0mkey\u001b[0m\u001b[0;34m)\u001b[0m\u001b[0;34m.\u001b[0m\u001b[0m_values\u001b[0m\u001b[0;34m\u001b[0m\u001b[0;34m\u001b[0m\u001b[0m\n\u001b[1;32m   1691\u001b[0m         \u001b[0;32melse\u001b[0m\u001b[0;34m:\u001b[0m\u001b[0;34m\u001b[0m\u001b[0;34m\u001b[0m\u001b[0m\n\u001b[0;32m-> 1692\u001b[0;31m             \u001b[0;32mraise\u001b[0m \u001b[0mKeyError\u001b[0m\u001b[0;34m(\u001b[0m\u001b[0mkey\u001b[0m\u001b[0;34m)\u001b[0m\u001b[0;34m\u001b[0m\u001b[0;34m\u001b[0m\u001b[0m\n\u001b[0m\u001b[1;32m   1693\u001b[0m \u001b[0;34m\u001b[0m\u001b[0m\n\u001b[1;32m   1694\u001b[0m         \u001b[0;31m# Check for duplicates\u001b[0m\u001b[0;34m\u001b[0m\u001b[0;34m\u001b[0m\u001b[0;34m\u001b[0m\u001b[0m\n",
            "\u001b[0;31mKeyError\u001b[0m: 'date_block_num'"
          ]
        }
      ]
    },
    {
      "cell_type": "markdown",
      "metadata": {
        "id": "r2_WCa_49yT0",
        "colab_type": "text"
      },
      "source": [
        "Last month shop revenue trend"
      ]
    },
    {
      "cell_type": "code",
      "metadata": {
        "id": "Ifl2HUNI6BVh",
        "colab_type": "code",
        "colab": {
          "base_uri": "https://localhost:8080/",
          "height": 34
        },
        "outputId": "9b5257c5-def8-453f-f37f-cdbefb11289c"
      },
      "source": [
        "ts = time.time()\n",
        "group = train.groupby(['date_block_num','shop_id']).agg({'revenue': ['sum']})\n",
        "group.columns = ['date_shop_revenue']\n",
        "group.reset_index(inplace=True)\n",
        "\n",
        "matrix = pd.merge(matrix, group, on=['date_block_num','shop_id'], how='left')\n",
        "matrix['date_shop_revenue'] = matrix['date_shop_revenue'].astype(np.float32)\n",
        "\n",
        "group = group.groupby(['shop_id']).agg({'date_shop_revenue': ['mean']})\n",
        "group.columns = ['shop_avg_revenue']\n",
        "group.reset_index(inplace=True)\n",
        "\n",
        "matrix = pd.merge(matrix, group, on=['shop_id'], how='left')\n",
        "matrix['shop_avg_revenue'] = matrix['shop_avg_revenue'].astype(np.float32)\n",
        "\n",
        "matrix['delta_revenue'] = (matrix['date_shop_revenue'] - matrix['shop_avg_revenue']) / matrix['shop_avg_revenue']\n",
        "matrix['delta_revenue'] = matrix['delta_revenue'].astype(np.float16)\n",
        "\n",
        "matrix = lag_feature(matrix, [1], 'delta_revenue')\n",
        "\n",
        "matrix.drop(['date_shop_revenue','shop_avg_revenue','delta_revenue'], axis=1, inplace=True)\n",
        "time.time() - ts"
      ],
      "execution_count": 49,
      "outputs": [
        {
          "output_type": "execute_result",
          "data": {
            "text/plain": [
              "32.47551488876343"
            ]
          },
          "metadata": {
            "tags": []
          },
          "execution_count": 49
        }
      ]
    },
    {
      "cell_type": "markdown",
      "metadata": {
        "id": "-UaKR8Fq-NXZ",
        "colab_type": "text"
      },
      "source": [
        "## Special features"
      ]
    },
    {
      "cell_type": "code",
      "metadata": {
        "id": "sFlCmFW7906e",
        "colab_type": "code",
        "colab": {
          "base_uri": "https://localhost:8080/",
          "height": 168
        },
        "outputId": "a3e677cc-a927-4a3d-b9a1-41a3eda3f45a"
      },
      "source": [
        "matrix['month'] = matrix['date_block_num'] % 12"
      ],
      "execution_count": 7,
      "outputs": [
        {
          "output_type": "error",
          "ename": "NameError",
          "evalue": "ignored",
          "traceback": [
            "\u001b[0;31m---------------------------------------------------------------------------\u001b[0m",
            "\u001b[0;31mNameError\u001b[0m                                 Traceback (most recent call last)",
            "\u001b[0;32m<ipython-input-7-6b0a88d4a4f5>\u001b[0m in \u001b[0;36m<module>\u001b[0;34m()\u001b[0m\n\u001b[0;32m----> 1\u001b[0;31m \u001b[0mmatrix\u001b[0m\u001b[0;34m[\u001b[0m\u001b[0;34m'month'\u001b[0m\u001b[0;34m]\u001b[0m \u001b[0;34m=\u001b[0m \u001b[0mmatrix\u001b[0m\u001b[0;34m[\u001b[0m\u001b[0;34m'date_block_num'\u001b[0m\u001b[0;34m]\u001b[0m \u001b[0;34m%\u001b[0m \u001b[0;36m12\u001b[0m\u001b[0;34m\u001b[0m\u001b[0;34m\u001b[0m\u001b[0m\n\u001b[0m",
            "\u001b[0;31mNameError\u001b[0m: name 'matrix' is not defined"
          ]
        }
      ]
    },
    {
      "cell_type": "code",
      "metadata": {
        "id": "rB04GJTw-RZ2",
        "colab_type": "code",
        "colab": {}
      },
      "source": [
        "days = pd.Series([31,28,31,30,31,30,31,31,30,31,30,31])\n",
        "matrix['days'] = matrix['month'].map(days).astype(np.int8)"
      ],
      "execution_count": 51,
      "outputs": []
    },
    {
      "cell_type": "code",
      "metadata": {
        "id": "kXWw435NB8s8",
        "colab_type": "code",
        "colab": {
          "base_uri": "https://localhost:8080/",
          "height": 236
        },
        "outputId": "70adc0a1-1faf-40ef-9fc8-a80e2dfe4394"
      },
      "source": [
        "ts = time.time()\n",
        "cache = {}\n",
        "matrix['item_shop_last_sale'] = -1\n",
        "matrix['item_shop_last_sale'] = matrix['item_shop_last_sale'].astype(np.int8)\n",
        "for idx, row in matrix.iterrows():    \n",
        "    key = str(row.item_id)+' '+str(row.shop_id)\n",
        "    if key not in cache:\n",
        "        if row.item_cnt_month!=0:\n",
        "            cache[key] = row.date_block_num\n",
        "    else:\n",
        "        last_date_block_num = cache[key]\n",
        "        matrix.at[idx, 'item_shop_last_sale'] = row.date_block_num - last_date_block_num\n",
        "        cache[key] = row.date_block_num         \n",
        "time.time() - ts"
      ],
      "execution_count": 5,
      "outputs": [
        {
          "output_type": "error",
          "ename": "NameError",
          "evalue": "ignored",
          "traceback": [
            "\u001b[0;31m---------------------------------------------------------------------------\u001b[0m",
            "\u001b[0;31mNameError\u001b[0m                                 Traceback (most recent call last)",
            "\u001b[0;32m<ipython-input-5-3f48106b1767>\u001b[0m in \u001b[0;36m<module>\u001b[0;34m()\u001b[0m\n\u001b[0;32m----> 1\u001b[0;31m \u001b[0mts\u001b[0m \u001b[0;34m=\u001b[0m \u001b[0mtime\u001b[0m\u001b[0;34m.\u001b[0m\u001b[0mtime\u001b[0m\u001b[0;34m(\u001b[0m\u001b[0;34m)\u001b[0m\u001b[0;34m\u001b[0m\u001b[0;34m\u001b[0m\u001b[0m\n\u001b[0m\u001b[1;32m      2\u001b[0m \u001b[0mcache\u001b[0m \u001b[0;34m=\u001b[0m \u001b[0;34m{\u001b[0m\u001b[0;34m}\u001b[0m\u001b[0;34m\u001b[0m\u001b[0;34m\u001b[0m\u001b[0m\n\u001b[1;32m      3\u001b[0m \u001b[0mmatrix\u001b[0m\u001b[0;34m[\u001b[0m\u001b[0;34m'item_shop_last_sale'\u001b[0m\u001b[0;34m]\u001b[0m \u001b[0;34m=\u001b[0m \u001b[0;34m-\u001b[0m\u001b[0;36m1\u001b[0m\u001b[0;34m\u001b[0m\u001b[0;34m\u001b[0m\u001b[0m\n\u001b[1;32m      4\u001b[0m \u001b[0mmatrix\u001b[0m\u001b[0;34m[\u001b[0m\u001b[0;34m'item_shop_last_sale'\u001b[0m\u001b[0;34m]\u001b[0m \u001b[0;34m=\u001b[0m \u001b[0mmatrix\u001b[0m\u001b[0;34m[\u001b[0m\u001b[0;34m'item_shop_last_sale'\u001b[0m\u001b[0;34m]\u001b[0m\u001b[0;34m.\u001b[0m\u001b[0mastype\u001b[0m\u001b[0;34m(\u001b[0m\u001b[0mnp\u001b[0m\u001b[0;34m.\u001b[0m\u001b[0mint8\u001b[0m\u001b[0;34m)\u001b[0m\u001b[0;34m\u001b[0m\u001b[0;34m\u001b[0m\u001b[0m\n\u001b[1;32m      5\u001b[0m \u001b[0;32mfor\u001b[0m \u001b[0midx\u001b[0m\u001b[0;34m,\u001b[0m \u001b[0mrow\u001b[0m \u001b[0;32min\u001b[0m \u001b[0mmatrix\u001b[0m\u001b[0;34m.\u001b[0m\u001b[0miterrows\u001b[0m\u001b[0;34m(\u001b[0m\u001b[0;34m)\u001b[0m\u001b[0;34m:\u001b[0m\u001b[0;34m\u001b[0m\u001b[0;34m\u001b[0m\u001b[0m\n",
            "\u001b[0;31mNameError\u001b[0m: name 'time' is not defined"
          ]
        }
      ]
    },
    {
      "cell_type": "code",
      "metadata": {
        "id": "LQ9psoA_B-3q",
        "colab_type": "code",
        "colab": {
          "base_uri": "https://localhost:8080/",
          "height": 236
        },
        "outputId": "07d16d1e-667a-4049-96e5-0afb36267a50"
      },
      "source": [
        "ts = time.time()\n",
        "cache = {}\n",
        "matrix['item_last_sale'] = -1\n",
        "matrix['item_last_sale'] = matrix['item_last_sale'].astype(np.int8)\n",
        "for idx, row in matrix.iterrows():    \n",
        "    key = row.item_id\n",
        "    if key not in cache:\n",
        "        if row.item_cnt_month!=0:\n",
        "            cache[key] = row.date_block_num\n",
        "    else:\n",
        "        last_date_block_num = cache[key]\n",
        "        if row.date_block_num>last_date_block_num:\n",
        "            matrix.at[idx, 'item_last_sale'] = row.date_block_num - last_date_block_num\n",
        "            cache[key] = row.date_block_num         \n",
        "time.time() - ts"
      ],
      "execution_count": 3,
      "outputs": [
        {
          "output_type": "error",
          "ename": "NameError",
          "evalue": "ignored",
          "traceback": [
            "\u001b[0;31m---------------------------------------------------------------------------\u001b[0m",
            "\u001b[0;31mNameError\u001b[0m                                 Traceback (most recent call last)",
            "\u001b[0;32m<ipython-input-3-e102c4c407e0>\u001b[0m in \u001b[0;36m<module>\u001b[0;34m()\u001b[0m\n\u001b[0;32m----> 1\u001b[0;31m \u001b[0mts\u001b[0m \u001b[0;34m=\u001b[0m \u001b[0mtime\u001b[0m\u001b[0;34m.\u001b[0m\u001b[0mtime\u001b[0m\u001b[0;34m(\u001b[0m\u001b[0;34m)\u001b[0m\u001b[0;34m\u001b[0m\u001b[0;34m\u001b[0m\u001b[0m\n\u001b[0m\u001b[1;32m      2\u001b[0m \u001b[0mcache\u001b[0m \u001b[0;34m=\u001b[0m \u001b[0;34m{\u001b[0m\u001b[0;34m}\u001b[0m\u001b[0;34m\u001b[0m\u001b[0;34m\u001b[0m\u001b[0m\n\u001b[1;32m      3\u001b[0m \u001b[0mmatrix\u001b[0m\u001b[0;34m[\u001b[0m\u001b[0;34m'item_last_sale'\u001b[0m\u001b[0;34m]\u001b[0m \u001b[0;34m=\u001b[0m \u001b[0;34m-\u001b[0m\u001b[0;36m1\u001b[0m\u001b[0;34m\u001b[0m\u001b[0;34m\u001b[0m\u001b[0m\n\u001b[1;32m      4\u001b[0m \u001b[0mmatrix\u001b[0m\u001b[0;34m[\u001b[0m\u001b[0;34m'item_last_sale'\u001b[0m\u001b[0;34m]\u001b[0m \u001b[0;34m=\u001b[0m \u001b[0mmatrix\u001b[0m\u001b[0;34m[\u001b[0m\u001b[0;34m'item_last_sale'\u001b[0m\u001b[0;34m]\u001b[0m\u001b[0;34m.\u001b[0m\u001b[0mastype\u001b[0m\u001b[0;34m(\u001b[0m\u001b[0mnp\u001b[0m\u001b[0;34m.\u001b[0m\u001b[0mint8\u001b[0m\u001b[0;34m)\u001b[0m\u001b[0;34m\u001b[0m\u001b[0;34m\u001b[0m\u001b[0m\n\u001b[1;32m      5\u001b[0m \u001b[0;32mfor\u001b[0m \u001b[0midx\u001b[0m\u001b[0;34m,\u001b[0m \u001b[0mrow\u001b[0m \u001b[0;32min\u001b[0m \u001b[0mmatrix\u001b[0m\u001b[0;34m.\u001b[0m\u001b[0miterrows\u001b[0m\u001b[0;34m(\u001b[0m\u001b[0;34m)\u001b[0m\u001b[0;34m:\u001b[0m\u001b[0;34m\u001b[0m\u001b[0;34m\u001b[0m\u001b[0m\n",
            "\u001b[0;31mNameError\u001b[0m: name 'time' is not defined"
          ]
        }
      ]
    },
    {
      "cell_type": "code",
      "metadata": {
        "id": "1F0JEWEcCBt6",
        "colab_type": "code",
        "colab": {
          "base_uri": "https://localhost:8080/",
          "height": 219
        },
        "outputId": "7282457d-c30f-47fc-9271-e7b9da773e6d"
      },
      "source": [
        "ts = time.time()\n",
        "matrix['item_shop_first_sale'] = matrix['date_block_num'] - matrix.groupby(['item_id','shop_id'])['date_block_num'].transform('min')\n",
        "matrix['item_first_sale'] = matrix['date_block_num'] - matrix.groupby('item_id')['date_block_num'].transform('min')\n",
        "time.time() - ts"
      ],
      "execution_count": 4,
      "outputs": [
        {
          "output_type": "error",
          "ename": "NameError",
          "evalue": "ignored",
          "traceback": [
            "\u001b[0;31m---------------------------------------------------------------------------\u001b[0m",
            "\u001b[0;31mNameError\u001b[0m                                 Traceback (most recent call last)",
            "\u001b[0;32m<ipython-input-4-6131babf22f4>\u001b[0m in \u001b[0;36m<module>\u001b[0;34m()\u001b[0m\n\u001b[0;32m----> 1\u001b[0;31m \u001b[0mts\u001b[0m \u001b[0;34m=\u001b[0m \u001b[0mtime\u001b[0m\u001b[0;34m.\u001b[0m\u001b[0mtime\u001b[0m\u001b[0;34m(\u001b[0m\u001b[0;34m)\u001b[0m\u001b[0;34m\u001b[0m\u001b[0;34m\u001b[0m\u001b[0m\n\u001b[0m\u001b[1;32m      2\u001b[0m \u001b[0mmatrix\u001b[0m\u001b[0;34m[\u001b[0m\u001b[0;34m'item_shop_first_sale'\u001b[0m\u001b[0;34m]\u001b[0m \u001b[0;34m=\u001b[0m \u001b[0mmatrix\u001b[0m\u001b[0;34m[\u001b[0m\u001b[0;34m'date_block_num'\u001b[0m\u001b[0;34m]\u001b[0m \u001b[0;34m-\u001b[0m \u001b[0mmatrix\u001b[0m\u001b[0;34m.\u001b[0m\u001b[0mgroupby\u001b[0m\u001b[0;34m(\u001b[0m\u001b[0;34m[\u001b[0m\u001b[0;34m'item_id'\u001b[0m\u001b[0;34m,\u001b[0m\u001b[0;34m'shop_id'\u001b[0m\u001b[0;34m]\u001b[0m\u001b[0;34m)\u001b[0m\u001b[0;34m[\u001b[0m\u001b[0;34m'date_block_num'\u001b[0m\u001b[0;34m]\u001b[0m\u001b[0;34m.\u001b[0m\u001b[0mtransform\u001b[0m\u001b[0;34m(\u001b[0m\u001b[0;34m'min'\u001b[0m\u001b[0;34m)\u001b[0m\u001b[0;34m\u001b[0m\u001b[0;34m\u001b[0m\u001b[0m\n\u001b[1;32m      3\u001b[0m \u001b[0mmatrix\u001b[0m\u001b[0;34m[\u001b[0m\u001b[0;34m'item_first_sale'\u001b[0m\u001b[0;34m]\u001b[0m \u001b[0;34m=\u001b[0m \u001b[0mmatrix\u001b[0m\u001b[0;34m[\u001b[0m\u001b[0;34m'date_block_num'\u001b[0m\u001b[0;34m]\u001b[0m \u001b[0;34m-\u001b[0m \u001b[0mmatrix\u001b[0m\u001b[0;34m.\u001b[0m\u001b[0mgroupby\u001b[0m\u001b[0;34m(\u001b[0m\u001b[0;34m'item_id'\u001b[0m\u001b[0;34m)\u001b[0m\u001b[0;34m[\u001b[0m\u001b[0;34m'date_block_num'\u001b[0m\u001b[0;34m]\u001b[0m\u001b[0;34m.\u001b[0m\u001b[0mtransform\u001b[0m\u001b[0;34m(\u001b[0m\u001b[0;34m'min'\u001b[0m\u001b[0;34m)\u001b[0m\u001b[0;34m\u001b[0m\u001b[0;34m\u001b[0m\u001b[0m\n\u001b[1;32m      4\u001b[0m \u001b[0mtime\u001b[0m\u001b[0;34m.\u001b[0m\u001b[0mtime\u001b[0m\u001b[0;34m(\u001b[0m\u001b[0;34m)\u001b[0m \u001b[0;34m-\u001b[0m \u001b[0mts\u001b[0m\u001b[0;34m\u001b[0m\u001b[0;34m\u001b[0m\u001b[0m\n",
            "\u001b[0;31mNameError\u001b[0m: name 'time' is not defined"
          ]
        }
      ]
    },
    {
      "cell_type": "code",
      "metadata": {
        "id": "h2MGskBrCNyK",
        "colab_type": "code",
        "colab": {}
      },
      "source": [
        ""
      ],
      "execution_count": null,
      "outputs": []
    }
  ]
}